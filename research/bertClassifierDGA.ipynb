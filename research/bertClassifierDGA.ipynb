{
  "cells": [
    {
      "cell_type": "markdown",
      "metadata": {
        "id": "52Bws9V6jrYQ"
      },
      "source": [
        "\n",
        "\n",
        "## BERT Classifier to detect DGA domains.\n",
        "### Author: Abdulkarim Abdulkadir\n"
      ]
    },
    {
      "cell_type": "markdown",
      "metadata": {
        "id": "JkxClUL8wK8w"
      },
      "source": [
        "### Load the libraries\n",
        "We will load the libraries, and check if we are in the Google Colab environment to pip install ktrain and import the drive mount library. This is to make sure that if the notebook is run locally, it will not execute Google Colab environment commands."
      ]
    },
    {
      "cell_type": "code",
      "execution_count": 9,
      "metadata": {
        "colab": {
          "base_uri": "https://localhost:8080/",
          "height": 570
        },
        "id": "cNBy_V83jiP4",
        "outputId": "62823709-e528-4ebe-dbf5-67e118de8354"
      },
      "outputs": [
        {
          "name": "stdout",
          "output_type": "stream",
          "text": [
            "Mounted at /content/drive\n",
            "Environment: Google Colaboratory Pro+.\n"
          ]
        },
        {
          "ename": "ImportError",
          "evalue": "ignored",
          "output_type": "error",
          "traceback": [
            "\u001b[0;31m---------------------------------------------------------------------------\u001b[0m",
            "\u001b[0;31mImportError\u001b[0m                               Traceback (most recent call last)",
            "\u001b[0;32m<ipython-input-9-c2000401f5f9>\u001b[0m in \u001b[0;36m<module>\u001b[0;34m()\u001b[0m\n\u001b[1;32m     18\u001b[0m     \u001b[0;31m## print\u001b[0m\u001b[0;34m\u001b[0m\u001b[0;34m\u001b[0m\u001b[0;34m\u001b[0m\u001b[0m\n\u001b[1;32m     19\u001b[0m     \u001b[0mprint\u001b[0m\u001b[0;34m(\u001b[0m\u001b[0;34m'Environment: Google Colaboratory Pro+.'\u001b[0m\u001b[0;34m)\u001b[0m\u001b[0;34m\u001b[0m\u001b[0;34m\u001b[0m\u001b[0m\n\u001b[0;32m---> 20\u001b[0;31m \u001b[0;32mimport\u001b[0m \u001b[0mktrain\u001b[0m\u001b[0;34m\u001b[0m\u001b[0;34m\u001b[0m\u001b[0m\n\u001b[0m",
            "\u001b[0;32m/usr/local/lib/python3.7/dist-packages/ktrain/__init__.py\u001b[0m in \u001b[0;36m<module>\u001b[0;34m()\u001b[0m\n\u001b[1;32m      1\u001b[0m \u001b[0;32mfrom\u001b[0m \u001b[0;34m.\u001b[0m\u001b[0mversion\u001b[0m \u001b[0;32mimport\u001b[0m \u001b[0m__version__\u001b[0m\u001b[0;34m\u001b[0m\u001b[0;34m\u001b[0m\u001b[0m\n\u001b[0;32m----> 2\u001b[0;31m \u001b[0;32mfrom\u001b[0m \u001b[0;34m.\u001b[0m \u001b[0;32mimport\u001b[0m \u001b[0mimports\u001b[0m \u001b[0;32mas\u001b[0m \u001b[0mI\u001b[0m\u001b[0;34m\u001b[0m\u001b[0;34m\u001b[0m\u001b[0m\n\u001b[0m\u001b[1;32m      3\u001b[0m \u001b[0;32mfrom\u001b[0m \u001b[0;34m.\u001b[0m\u001b[0mcore\u001b[0m \u001b[0;32mimport\u001b[0m \u001b[0mArrayLearner\u001b[0m\u001b[0;34m,\u001b[0m \u001b[0mGenLearner\u001b[0m\u001b[0;34m,\u001b[0m \u001b[0mget_predictor\u001b[0m\u001b[0;34m,\u001b[0m \u001b[0mload_predictor\u001b[0m\u001b[0;34m,\u001b[0m \u001b[0mrelease_gpu_memory\u001b[0m\u001b[0;34m\u001b[0m\u001b[0;34m\u001b[0m\u001b[0m\n\u001b[1;32m      4\u001b[0m \u001b[0;32mfrom\u001b[0m \u001b[0;34m.\u001b[0m\u001b[0mvision\u001b[0m\u001b[0;34m.\u001b[0m\u001b[0mlearner\u001b[0m \u001b[0;32mimport\u001b[0m \u001b[0mImageClassLearner\u001b[0m\u001b[0;34m\u001b[0m\u001b[0;34m\u001b[0m\u001b[0m\n\u001b[1;32m      5\u001b[0m \u001b[0;32mfrom\u001b[0m \u001b[0;34m.\u001b[0m\u001b[0mtext\u001b[0m\u001b[0;34m.\u001b[0m\u001b[0mlearner\u001b[0m \u001b[0;32mimport\u001b[0m \u001b[0mBERTTextClassLearner\u001b[0m\u001b[0;34m,\u001b[0m \u001b[0mTransformerTextClassLearner\u001b[0m\u001b[0;34m\u001b[0m\u001b[0;34m\u001b[0m\u001b[0m\n",
            "\u001b[0;32m/usr/local/lib/python3.7/dist-packages/ktrain/imports.py\u001b[0m in \u001b[0;36m<module>\u001b[0;34m()\u001b[0m\n\u001b[1;32m    174\u001b[0m \u001b[0;32mfrom\u001b[0m \u001b[0msklearn\u001b[0m\u001b[0;34m.\u001b[0m\u001b[0mbase\u001b[0m \u001b[0;32mimport\u001b[0m \u001b[0mBaseEstimator\u001b[0m\u001b[0;34m,\u001b[0m \u001b[0mTransformerMixin\u001b[0m\u001b[0;34m\u001b[0m\u001b[0;34m\u001b[0m\u001b[0m\n\u001b[1;32m    175\u001b[0m \u001b[0;32mfrom\u001b[0m \u001b[0msklearn\u001b[0m\u001b[0;34m.\u001b[0m\u001b[0mfeature_extraction\u001b[0m\u001b[0;34m.\u001b[0m\u001b[0mtext\u001b[0m \u001b[0;32mimport\u001b[0m \u001b[0mCountVectorizer\u001b[0m\u001b[0;34m,\u001b[0m \u001b[0mTfidfVectorizer\u001b[0m\u001b[0;34m\u001b[0m\u001b[0;34m\u001b[0m\u001b[0m\n\u001b[0;32m--> 176\u001b[0;31m \u001b[0;32mfrom\u001b[0m \u001b[0msklearn\u001b[0m\u001b[0;34m.\u001b[0m\u001b[0mdecomposition\u001b[0m \u001b[0;32mimport\u001b[0m \u001b[0mNMF\u001b[0m\u001b[0;34m,\u001b[0m \u001b[0mLatentDirichletAllocation\u001b[0m\u001b[0;34m\u001b[0m\u001b[0;34m\u001b[0m\u001b[0m\n\u001b[0m\u001b[1;32m    177\u001b[0m \u001b[0;32mfrom\u001b[0m \u001b[0msklearn\u001b[0m\u001b[0;34m.\u001b[0m\u001b[0mmanifold\u001b[0m \u001b[0;32mimport\u001b[0m \u001b[0mTSNE\u001b[0m\u001b[0;34m\u001b[0m\u001b[0;34m\u001b[0m\u001b[0m\n\u001b[1;32m    178\u001b[0m \u001b[0;32mfrom\u001b[0m \u001b[0msklearn\u001b[0m\u001b[0;34m.\u001b[0m\u001b[0mpreprocessing\u001b[0m \u001b[0;32mimport\u001b[0m \u001b[0mLabelEncoder\u001b[0m\u001b[0;34m\u001b[0m\u001b[0;34m\u001b[0m\u001b[0m\n",
            "\u001b[0;32m/usr/local/lib/python3.7/dist-packages/sklearn/decomposition/__init__.py\u001b[0m in \u001b[0;36m<module>\u001b[0;34m()\u001b[0m\n\u001b[1;32m     15\u001b[0m \u001b[0;32mwith\u001b[0m \u001b[0mwarnings\u001b[0m\u001b[0;34m.\u001b[0m\u001b[0mcatch_warnings\u001b[0m\u001b[0;34m(\u001b[0m\u001b[0;34m)\u001b[0m\u001b[0;34m:\u001b[0m\u001b[0;34m\u001b[0m\u001b[0;34m\u001b[0m\u001b[0m\n\u001b[1;32m     16\u001b[0m     \u001b[0mwarnings\u001b[0m\u001b[0;34m.\u001b[0m\u001b[0msimplefilter\u001b[0m\u001b[0;34m(\u001b[0m\u001b[0;34m\"ignore\"\u001b[0m\u001b[0;34m,\u001b[0m \u001b[0mcategory\u001b[0m\u001b[0;34m=\u001b[0m\u001b[0mFutureWarning\u001b[0m\u001b[0;34m)\u001b[0m\u001b[0;34m\u001b[0m\u001b[0;34m\u001b[0m\u001b[0m\n\u001b[0;32m---> 17\u001b[0;31m     \u001b[0;32mfrom\u001b[0m \u001b[0;34m.\u001b[0m\u001b[0mdict_learning\u001b[0m \u001b[0;32mimport\u001b[0m \u001b[0mdict_learning\u001b[0m\u001b[0;34m\u001b[0m\u001b[0;34m\u001b[0m\u001b[0m\n\u001b[0m\u001b[1;32m     18\u001b[0m \u001b[0;34m\u001b[0m\u001b[0m\n\u001b[1;32m     19\u001b[0m \u001b[0;34m\u001b[0m\u001b[0m\n",
            "\u001b[0;32m/usr/local/lib/python3.7/dist-packages/sklearn/decomposition/dict_learning.py\u001b[0m in \u001b[0;36m<module>\u001b[0;34m()\u001b[0m\n\u001b[1;32m      5\u001b[0m \u001b[0;32mfrom\u001b[0m \u001b[0;34m.\u001b[0m \u001b[0;32mimport\u001b[0m \u001b[0m_dict_learning\u001b[0m  \u001b[0;31m# type: ignore\u001b[0m\u001b[0;34m\u001b[0m\u001b[0;34m\u001b[0m\u001b[0m\n\u001b[1;32m      6\u001b[0m \u001b[0;32mfrom\u001b[0m \u001b[0;34m.\u001b[0m\u001b[0;34m.\u001b[0m\u001b[0mexternals\u001b[0m\u001b[0;34m.\u001b[0m\u001b[0m_pep562\u001b[0m \u001b[0;32mimport\u001b[0m \u001b[0mPep562\u001b[0m\u001b[0;34m\u001b[0m\u001b[0;34m\u001b[0m\u001b[0m\n\u001b[0;32m----> 7\u001b[0;31m \u001b[0;32mfrom\u001b[0m \u001b[0;34m.\u001b[0m\u001b[0;34m.\u001b[0m\u001b[0mutils\u001b[0m\u001b[0;34m.\u001b[0m\u001b[0mdeprecation\u001b[0m \u001b[0;32mimport\u001b[0m \u001b[0m_raise_dep_warning_if_not_pytest\u001b[0m\u001b[0;34m\u001b[0m\u001b[0;34m\u001b[0m\u001b[0m\n\u001b[0m\u001b[1;32m      8\u001b[0m \u001b[0;34m\u001b[0m\u001b[0m\n\u001b[1;32m      9\u001b[0m \u001b[0mdeprecated_path\u001b[0m \u001b[0;34m=\u001b[0m \u001b[0;34m'sklearn.decomposition.dict_learning'\u001b[0m\u001b[0;34m\u001b[0m\u001b[0;34m\u001b[0m\u001b[0m\n",
            "\u001b[0;31mImportError\u001b[0m: cannot import name '_raise_dep_warning_if_not_pytest' from 'sklearn.utils.deprecation' (/usr/local/lib/python3.7/dist-packages/sklearn/utils/deprecation.py)",
            "",
            "\u001b[0;31m---------------------------------------------------------------------------\u001b[0;32m\nNOTE: If your import is failing due to a missing package, you can\nmanually install dependencies using either !pip or !apt.\n\nTo view examples of installing some common dependencies, click the\n\"Open Examples\" button below.\n\u001b[0;31m---------------------------------------------------------------------------\u001b[0m\n"
          ]
        }
      ],
      "source": [
        "import pandas as pd\n",
        "import os\n",
        "import sys\n",
        "from sklearn.utils import shuffle\n",
        "from sklearn.model_selection import train_test_split\n",
        "\n",
        "ENV_COLAB = 'google.colab' in sys.modules\n",
        "\n",
        "\n",
        "if ENV_COLAB:\n",
        "    ## install modules\n",
        "    !pip install -q ktrain\n",
        "    !pip install -q git+https://github.com/amaiya/eli5@tfkeras_0_10_1\n",
        "    from google.colab import drive\n",
        "    drive.mount('/content/drive', force_remount=True) \n",
        "\n",
        "    ## print\n",
        "    print('Environment: Google Colaboratory Pro+.')\n",
        "import ktrain"
      ]
    },
    {
      "cell_type": "markdown",
      "metadata": {
        "id": "IGzUtWZExRPM"
      },
      "source": [
        "Again we check which environment we are to correctly find the location of the data of our domains"
      ]
    },
    {
      "cell_type": "code",
      "execution_count": null,
      "metadata": {
        "id": "Rzgq_nPOj05o"
      },
      "outputs": [],
      "source": [
        "\n",
        "if ENV_COLAB:\n",
        "  dgaLocation = '/content/drive/MyDrive/research/generated_domains/'\n",
        "  benignDomains = '/content/drive/MyDrive/research/benign_domains/top-1m.csv'\n",
        "else:\n",
        "  dgaLocation = 'generated_domains/'\n",
        "  benignDomains = 'benign_domains/top-1m.csv'"
      ]
    },
    {
      "cell_type": "markdown",
      "metadata": {
        "id": "ybBgLg0P1fpc"
      },
      "source": [
        "We have a total amount of 19 different DGA types. Including the benign domain data, this will total 20 different types."
      ]
    },
    {
      "cell_type": "code",
      "execution_count": null,
      "metadata": {
        "colab": {
          "base_uri": "https://localhost:8080/"
        },
        "id": "QQlYBq1t1evo",
        "outputId": "5a7b2bac-4346-451b-f633-638352b7eea3"
      },
      "outputs": [
        {
          "name": "stdout",
          "output_type": "stream",
          "text": [
            "Total amount of DGA types:  19\n"
          ]
        }
      ],
      "source": [
        "dgaDomains = [dga for dga in os.listdir(dgaLocation) if dga.endswith(r\".csv\")]\n",
        "print(\"Total amount of DGA types: \", len(dgaDomains))"
      ]
    },
    {
      "cell_type": "markdown",
      "metadata": {
        "id": "X6hCohtqvhTI"
      },
      "source": [
        "## Load the data into arrays\n",
        "We will randomly select 110000 samples from the benign domains and 90000 from the dga domains. The ratio between the benign and dga domains will be 55:45. Thus we trimmed our data to a total of 200000 domains to use for training our BERT classifier"
      ]
    },
    {
      "cell_type": "code",
      "execution_count": null,
      "metadata": {
        "id": "EHC6LkNHj3-g"
      },
      "outputs": [],
      "source": [
        "dataset = pd.DataFrame()\n",
        "for i, dga in enumerate(dgaDomains):\n",
        "    dgaDataFrame = pd.read_csv(dgaLocation + dga)\n",
        "    dgaDataFrame.insert(1,'type',dga.split(\".\")[0])\n",
        "    dgaDataFrame.insert(2,'class',1)\n",
        "    dataset = dataset.append(dgaDataFrame, ignore_index=True)\n",
        "datasetTrimmed = pd.DataFrame()\n",
        "datasetTrimmed = shuffle(dataset)\n",
        "datasetTrimmed = datasetTrimmed[:90000]\n",
        "benignDataFrame = pd.read_csv(benignDomains)\n",
        "benignDataFrame.insert(1, 'type', 'benign')\n",
        "benignDataFrame.insert(1, 'class', 0)\n",
        "datasetTrimmed = datasetTrimmed.append(shuffle(benignDataFrame[:110000]), ignore_index=True)\n",
        "datasetTrimmed = shuffle(datasetTrimmed)\n",
        "datasetTrimmed = datasetTrimmed.reset_index(drop=True)"
      ]
    },
    {
      "cell_type": "code",
      "execution_count": null,
      "metadata": {
        "colab": {
          "base_uri": "https://localhost:8080/"
        },
        "id": "qYrmQa9ij7OU",
        "outputId": "0986bd56-44c7-4007-eb8f-36bbf28f3df5"
      },
      "outputs": [
        {
          "name": "stdout",
          "output_type": "stream",
          "text": [
            "Total amount of DGA domains:  90000\n",
            "Total amount of benign domains:  110000\n",
            "Total amount of domains:  200000\n"
          ]
        }
      ],
      "source": [
        "print(\"Total amount of DGA domains: \", datasetTrimmed['class'].value_counts()[1])\n",
        "print(\"Total amount of benign domains: \", datasetTrimmed['class'].value_counts()[0])\n",
        "print(\"Total amount of domains: \", len(datasetTrimmed))\n",
        "if ENV_COLAB:\n",
        "  datasetTrimmed.to_csv('/content/drive/MyDrive/research/dataset', index=False)\n",
        "else:\n",
        "  datasetTrimmed.to_csv('dataset', index=False)"
      ]
    },
    {
      "cell_type": "markdown",
      "metadata": {
        "id": "eg_XDZYfvKfw"
      },
      "source": [
        "We will split our data into random train and test subsets. Our test size will be 25%. Our random_state that control the randon number generated has to be given. Popular seeds are 42 or 0. We chose 42 for obvious reasons."
      ]
    },
    {
      "cell_type": "code",
      "execution_count": null,
      "metadata": {
        "id": "eV_tY3yOj9Rk"
      },
      "outputs": [],
      "source": [
        "if ENV_COLAB:\n",
        "  dataset = pd.read_csv('/content/drive/MyDrive/research/dataset')\n",
        "else:\n",
        "  dataset = pd.read_csv('dataset')\n",
        "X = dataset['domain']\n",
        "\n",
        "labels = dataset['class']\n",
        "class_names = labels.unique()\n",
        "x_train, x_test, y_train, y_test = train_test_split(X,\n",
        "                                                    labels,\n",
        "                                                    test_size=0.25,\n",
        "                                                    random_state=42)"
      ]
    },
    {
      "cell_type": "markdown",
      "metadata": {
        "id": "LEmbnwOiy4XM"
      },
      "source": [
        "Display the first 10 and last 10 data in our dataset."
      ]
    },
    {
      "cell_type": "code",
      "execution_count": null,
      "metadata": {
        "colab": {
          "base_uri": "https://localhost:8080/",
          "height": 677
        },
        "id": "Ylh4et45j_co",
        "outputId": "27661499-619e-4884-93ce-85f376ba2af6"
      },
      "outputs": [
        {
          "data": {
            "text/html": [
              "\n",
              "  <div id=\"df-45cc8df5-1635-415b-83b7-5e43c2bfce43\">\n",
              "    <div class=\"colab-df-container\">\n",
              "      <div>\n",
              "<style scoped>\n",
              "    .dataframe tbody tr th:only-of-type {\n",
              "        vertical-align: middle;\n",
              "    }\n",
              "\n",
              "    .dataframe tbody tr th {\n",
              "        vertical-align: top;\n",
              "    }\n",
              "\n",
              "    .dataframe thead th {\n",
              "        text-align: right;\n",
              "    }\n",
              "</style>\n",
              "<table border=\"1\" class=\"dataframe\">\n",
              "  <thead>\n",
              "    <tr style=\"text-align: right;\">\n",
              "      <th></th>\n",
              "      <th>domain</th>\n",
              "      <th>type</th>\n",
              "      <th>class</th>\n",
              "    </tr>\n",
              "  </thead>\n",
              "  <tbody>\n",
              "    <tr>\n",
              "      <th>0</th>\n",
              "      <td>yn.lt</td>\n",
              "      <td>benign</td>\n",
              "      <td>0</td>\n",
              "    </tr>\n",
              "    <tr>\n",
              "      <th>1</th>\n",
              "      <td>owblghvcebxp.biz</td>\n",
              "      <td>cryptolocker</td>\n",
              "      <td>1</td>\n",
              "    </tr>\n",
              "    <tr>\n",
              "      <th>2</th>\n",
              "      <td>chapterclaimdiscoverrecognize.com</td>\n",
              "      <td>matsnu</td>\n",
              "      <td>1</td>\n",
              "    </tr>\n",
              "    <tr>\n",
              "      <th>3</th>\n",
              "      <td>alcoholics-anonymous.org.uk</td>\n",
              "      <td>benign</td>\n",
              "      <td>0</td>\n",
              "    </tr>\n",
              "    <tr>\n",
              "      <th>4</th>\n",
              "      <td>nordpass.com</td>\n",
              "      <td>benign</td>\n",
              "      <td>0</td>\n",
              "    </tr>\n",
              "    <tr>\n",
              "      <th>5</th>\n",
              "      <td>5minutesformom.com</td>\n",
              "      <td>benign</td>\n",
              "      <td>0</td>\n",
              "    </tr>\n",
              "    <tr>\n",
              "      <th>6</th>\n",
              "      <td>realitypaper.com</td>\n",
              "      <td>benign</td>\n",
              "      <td>0</td>\n",
              "    </tr>\n",
              "    <tr>\n",
              "      <th>7</th>\n",
              "      <td>laqsoxbopbmq.ru</td>\n",
              "      <td>cryptolocker</td>\n",
              "      <td>1</td>\n",
              "    </tr>\n",
              "    <tr>\n",
              "      <th>8</th>\n",
              "      <td>foodsafety.gov</td>\n",
              "      <td>benign</td>\n",
              "      <td>0</td>\n",
              "    </tr>\n",
              "    <tr>\n",
              "      <th>9</th>\n",
              "      <td>octopart.com</td>\n",
              "      <td>benign</td>\n",
              "      <td>0</td>\n",
              "    </tr>\n",
              "    <tr>\n",
              "      <th>199990</th>\n",
              "      <td>vogue.com.cn</td>\n",
              "      <td>benign</td>\n",
              "      <td>0</td>\n",
              "    </tr>\n",
              "    <tr>\n",
              "      <th>199991</th>\n",
              "      <td>fearsettaxmissstormcakekill.com</td>\n",
              "      <td>matsnu</td>\n",
              "      <td>1</td>\n",
              "    </tr>\n",
              "    <tr>\n",
              "      <th>199992</th>\n",
              "      <td>joinsuperset.com</td>\n",
              "      <td>benign</td>\n",
              "      <td>0</td>\n",
              "    </tr>\n",
              "    <tr>\n",
              "      <th>199993</th>\n",
              "      <td>aseaofblue.com</td>\n",
              "      <td>benign</td>\n",
              "      <td>0</td>\n",
              "    </tr>\n",
              "    <tr>\n",
              "      <th>199994</th>\n",
              "      <td>mne.gov.pt</td>\n",
              "      <td>benign</td>\n",
              "      <td>0</td>\n",
              "    </tr>\n",
              "    <tr>\n",
              "      <th>199995</th>\n",
              "      <td>blowdishcreamfriendstable.com</td>\n",
              "      <td>matsnu</td>\n",
              "      <td>1</td>\n",
              "    </tr>\n",
              "    <tr>\n",
              "      <th>199996</th>\n",
              "      <td>vrl77uro7j4avyf56x.biz</td>\n",
              "      <td>rovnix</td>\n",
              "      <td>1</td>\n",
              "    </tr>\n",
              "    <tr>\n",
              "      <th>199997</th>\n",
              "      <td>followreceive.net</td>\n",
              "      <td>suppobox</td>\n",
              "      <td>1</td>\n",
              "    </tr>\n",
              "    <tr>\n",
              "      <th>199998</th>\n",
              "      <td>mianyangrc.com</td>\n",
              "      <td>benign</td>\n",
              "      <td>0</td>\n",
              "    </tr>\n",
              "    <tr>\n",
              "      <th>199999</th>\n",
              "      <td>doorraceservegivelecture.com</td>\n",
              "      <td>matsnu</td>\n",
              "      <td>1</td>\n",
              "    </tr>\n",
              "  </tbody>\n",
              "</table>\n",
              "</div>\n",
              "      <button class=\"colab-df-convert\" onclick=\"convertToInteractive('df-45cc8df5-1635-415b-83b7-5e43c2bfce43')\"\n",
              "              title=\"Convert this dataframe to an interactive table.\"\n",
              "              style=\"display:none;\">\n",
              "        \n",
              "  <svg xmlns=\"http://www.w3.org/2000/svg\" height=\"24px\"viewBox=\"0 0 24 24\"\n",
              "       width=\"24px\">\n",
              "    <path d=\"M0 0h24v24H0V0z\" fill=\"none\"/>\n",
              "    <path d=\"M18.56 5.44l.94 2.06.94-2.06 2.06-.94-2.06-.94-.94-2.06-.94 2.06-2.06.94zm-11 1L8.5 8.5l.94-2.06 2.06-.94-2.06-.94L8.5 2.5l-.94 2.06-2.06.94zm10 10l.94 2.06.94-2.06 2.06-.94-2.06-.94-.94-2.06-.94 2.06-2.06.94z\"/><path d=\"M17.41 7.96l-1.37-1.37c-.4-.4-.92-.59-1.43-.59-.52 0-1.04.2-1.43.59L10.3 9.45l-7.72 7.72c-.78.78-.78 2.05 0 2.83L4 21.41c.39.39.9.59 1.41.59.51 0 1.02-.2 1.41-.59l7.78-7.78 2.81-2.81c.8-.78.8-2.07 0-2.86zM5.41 20L4 18.59l7.72-7.72 1.47 1.35L5.41 20z\"/>\n",
              "  </svg>\n",
              "      </button>\n",
              "      \n",
              "  <style>\n",
              "    .colab-df-container {\n",
              "      display:flex;\n",
              "      flex-wrap:wrap;\n",
              "      gap: 12px;\n",
              "    }\n",
              "\n",
              "    .colab-df-convert {\n",
              "      background-color: #E8F0FE;\n",
              "      border: none;\n",
              "      border-radius: 50%;\n",
              "      cursor: pointer;\n",
              "      display: none;\n",
              "      fill: #1967D2;\n",
              "      height: 32px;\n",
              "      padding: 0 0 0 0;\n",
              "      width: 32px;\n",
              "    }\n",
              "\n",
              "    .colab-df-convert:hover {\n",
              "      background-color: #E2EBFA;\n",
              "      box-shadow: 0px 1px 2px rgba(60, 64, 67, 0.3), 0px 1px 3px 1px rgba(60, 64, 67, 0.15);\n",
              "      fill: #174EA6;\n",
              "    }\n",
              "\n",
              "    [theme=dark] .colab-df-convert {\n",
              "      background-color: #3B4455;\n",
              "      fill: #D2E3FC;\n",
              "    }\n",
              "\n",
              "    [theme=dark] .colab-df-convert:hover {\n",
              "      background-color: #434B5C;\n",
              "      box-shadow: 0px 1px 3px 1px rgba(0, 0, 0, 0.15);\n",
              "      filter: drop-shadow(0px 1px 2px rgba(0, 0, 0, 0.3));\n",
              "      fill: #FFFFFF;\n",
              "    }\n",
              "  </style>\n",
              "\n",
              "      <script>\n",
              "        const buttonEl =\n",
              "          document.querySelector('#df-45cc8df5-1635-415b-83b7-5e43c2bfce43 button.colab-df-convert');\n",
              "        buttonEl.style.display =\n",
              "          google.colab.kernel.accessAllowed ? 'block' : 'none';\n",
              "\n",
              "        async function convertToInteractive(key) {\n",
              "          const element = document.querySelector('#df-45cc8df5-1635-415b-83b7-5e43c2bfce43');\n",
              "          const dataTable =\n",
              "            await google.colab.kernel.invokeFunction('convertToInteractive',\n",
              "                                                     [key], {});\n",
              "          if (!dataTable) return;\n",
              "\n",
              "          const docLinkHtml = 'Like what you see? Visit the ' +\n",
              "            '<a target=\"_blank\" href=https://colab.research.google.com/notebooks/data_table.ipynb>data table notebook</a>'\n",
              "            + ' to learn more about interactive tables.';\n",
              "          element.innerHTML = '';\n",
              "          dataTable['output_type'] = 'display_data';\n",
              "          await google.colab.output.renderOutput(dataTable, element);\n",
              "          const docLink = document.createElement('div');\n",
              "          docLink.innerHTML = docLinkHtml;\n",
              "          element.appendChild(docLink);\n",
              "        }\n",
              "      </script>\n",
              "    </div>\n",
              "  </div>\n",
              "  "
            ],
            "text/plain": [
              "                                   domain          type  class\n",
              "0                                   yn.lt        benign      0\n",
              "1                        owblghvcebxp.biz  cryptolocker      1\n",
              "2       chapterclaimdiscoverrecognize.com        matsnu      1\n",
              "3             alcoholics-anonymous.org.uk        benign      0\n",
              "4                            nordpass.com        benign      0\n",
              "5                      5minutesformom.com        benign      0\n",
              "6                        realitypaper.com        benign      0\n",
              "7                         laqsoxbopbmq.ru  cryptolocker      1\n",
              "8                          foodsafety.gov        benign      0\n",
              "9                            octopart.com        benign      0\n",
              "199990                       vogue.com.cn        benign      0\n",
              "199991    fearsettaxmissstormcakekill.com        matsnu      1\n",
              "199992                   joinsuperset.com        benign      0\n",
              "199993                     aseaofblue.com        benign      0\n",
              "199994                         mne.gov.pt        benign      0\n",
              "199995      blowdishcreamfriendstable.com        matsnu      1\n",
              "199996             vrl77uro7j4avyf56x.biz        rovnix      1\n",
              "199997                  followreceive.net      suppobox      1\n",
              "199998                     mianyangrc.com        benign      0\n",
              "199999       doorraceservegivelecture.com        matsnu      1"
            ]
          },
          "metadata": {},
          "output_type": "display_data"
        }
      ],
      "source": [
        "display(dataset.head(10).append(dataset.tail(10)))"
      ]
    },
    {
      "cell_type": "code",
      "execution_count": null,
      "metadata": {
        "colab": {
          "base_uri": "https://localhost:8080/"
        },
        "id": "lz8cxZr7thXo",
        "outputId": "596ed6df-cf4a-4463-f495-f34fc7391f20"
      },
      "outputs": [
        {
          "name": "stdout",
          "output_type": "stream",
          "text": [
            "Size of training set: 150000\n",
            "Size of validation set: 50000\n"
          ]
        }
      ],
      "source": [
        "print(\"Size of training set: %s\" % (len(x_train)))\n",
        "print(\"Size of validation set: %s\" % (len(x_test)))"
      ]
    },
    {
      "cell_type": "markdown",
      "metadata": {
        "id": "TPvAaXcZzUDE"
      },
      "source": [
        "We list all the text models that ktrain offers. For our research we will use the distilbert model. Which is a faster, smaller and distilled version of BERT. "
      ]
    },
    {
      "cell_type": "code",
      "execution_count": null,
      "metadata": {
        "colab": {
          "base_uri": "https://localhost:8080/"
        },
        "id": "lZBSEeRrzRgk",
        "outputId": "52e0c439-8234-4e71-b983-e4d4acf253f1"
      },
      "outputs": [
        {
          "name": "stdout",
          "output_type": "stream",
          "text": [
            "fasttext: a fastText-like model [http://arxiv.org/pdf/1607.01759.pdf]\n",
            "logreg: logistic regression using a trainable Embedding layer\n",
            "nbsvm: NBSVM model [http://www.aclweb.org/anthology/P12-2018]\n",
            "bigru: Bidirectional GRU with pretrained fasttext word vectors [https://fasttext.cc/docs/en/crawl-vectors.html]\n",
            "standard_gru: simple 2-layer GRU with randomly initialized embeddings\n",
            "bert: Bidirectional Encoder Representations from Transformers (BERT) from keras_bert [https://arxiv.org/abs/1810.04805]\n",
            "distilbert: distilled, smaller, and faster BERT from Hugging Face transformers [https://arxiv.org/abs/1910.01108]\n"
          ]
        }
      ],
      "source": [
        "ktrain.text.print_text_classifiers()"
      ]
    },
    {
      "cell_type": "code",
      "execution_count": null,
      "metadata": {
        "id": "I9w8EZBukBq0"
      },
      "outputs": [],
      "source": [
        "model_name = 'distilbert-base-uncased'\n",
        "t = ktrain.text.Transformer(model_name, class_names=labels.unique(),\n",
        "                     maxlen=350)"
      ]
    },
    {
      "cell_type": "markdown",
      "metadata": {
        "id": "PlnehhtxzemE"
      },
      "source": [
        "Naming our pre-process train and validation dataset respectively."
      ]
    },
    {
      "cell_type": "code",
      "execution_count": null,
      "metadata": {
        "colab": {
          "base_uri": "https://localhost:8080/",
          "height": 269
        },
        "id": "Yc8b7SotkD_Q",
        "outputId": "c230c1f1-8df6-49fa-a639-d22369abca67"
      },
      "outputs": [
        {
          "name": "stdout",
          "output_type": "stream",
          "text": [
            "preprocessing train...\n",
            "language: cy\n",
            "train sequence lengths:\n",
            "\tmean : 1\n",
            "\t95percentile : 1\n",
            "\t99percentile : 1\n"
          ]
        },
        {
          "data": {
            "text/html": [],
            "text/plain": [
              "<IPython.core.display.HTML object>"
            ]
          },
          "metadata": {},
          "output_type": "display_data"
        },
        {
          "name": "stdout",
          "output_type": "stream",
          "text": [
            "Is Multi-Label? False\n",
            "preprocessing test...\n",
            "language: cy\n",
            "test sequence lengths:\n",
            "\tmean : 1\n",
            "\t95percentile : 1\n",
            "\t99percentile : 1\n"
          ]
        },
        {
          "data": {
            "text/html": [],
            "text/plain": [
              "<IPython.core.display.HTML object>"
            ]
          },
          "metadata": {},
          "output_type": "display_data"
        }
      ],
      "source": [
        "train = t.preprocess_train(x_train.tolist(), y_train.to_list())\n",
        "\n",
        "val = t.preprocess_test(x_test.tolist(), y_test.to_list())\n",
        "model = t.get_classifier()"
      ]
    },
    {
      "cell_type": "markdown",
      "metadata": {
        "id": "wfzdqabkzos8"
      },
      "source": [
        "We will find a good learning rate using the learning rate range test to provide valuable information about an optimal learnign rate. To point has to be chosen at which the loss starts descending and the point at which the loss stops descending or becomes ragged. For BERT and DistilBERT models the typical learning rate is between 5e-5 and 2e-5."
      ]
    },
    {
      "cell_type": "code",
      "execution_count": null,
      "metadata": {
        "id": "R9WgXQNgH55Q"
      },
      "outputs": [],
      "source": [
        "learner = ktrain.get_learner(model,\n",
        "                       train_data=train,\n",
        "                       val_data=val,\n",
        "                       batch_size=6)"
      ]
    },
    {
      "cell_type": "code",
      "execution_count": null,
      "metadata": {
        "colab": {
          "background_save": true,
          "base_uri": "https://localhost:8080/"
        },
        "id": "C9x_0-kjkGuQ",
        "outputId": "c724481c-3f53-4e37-bda3-9e56e788019c"
      },
      "outputs": [
        {
          "name": "stdout",
          "output_type": "stream",
          "text": [
            "simulating training for different learning rates... this may take a few moments...\n",
            "Epoch 1/4\n",
            "25000/25000 [==============================] - 3781s 150ms/step - loss: 0.1452 - accuracy: 0.9468\n",
            "Epoch 2/4\n",
            "25000/25000 [==============================] - 2056s 81ms/step - loss: 0.0797 - accuracy: 0.9664\n",
            "\n",
            "\n",
            "done.\n",
            "Please invoke the Learner.lr_plot() method to visually inspect the loss plot to help identify the maximal learning rate associated with falling loss.\n"
          ]
        },
        {
          "data": {
            "image/png": "[encoded data removed]",
            "text/plain": [
              "<Figure size 432x288 with 1 Axes>"
            ]
          },
          "metadata": {},
          "output_type": "display_data"
        }
      ],
      "source": [
        "learner.lr_find(max_epochs=4)\n",
        "learner.lr_plot()"
      ]
    },
    {
      "cell_type": "markdown",
      "metadata": {
        "id": "Dr8PnUbF0aJA"
      },
      "source": [
        "Based on the plot above we choose 3e-5 as our learning rate. We will fit a model follwing the 1cycle policy."
      ]
    },
    {
      "cell_type": "code",
      "execution_count": null,
      "metadata": {
        "colab": {
          "background_save": true
        },
        "id": "3ayVCWtD0euI",
        "outputId": "e5cbf4a1-9d38-4f36-91ff-aed3cb536d94"
      },
      "outputs": [
        {
          "name": "stdout",
          "output_type": "stream",
          "text": [
            "\n",
            "\n",
            "begin training using onecycle policy with max lr of 3e-05...\n",
            "Epoch 1/4\n",
            "25000/25000 [==============================] - 3861s 153ms/step - loss: 0.0389 - accuracy: 0.9874 - val_loss: 0.0181 - val_accuracy: 0.9944\n",
            "Epoch 2/4\n",
            "25000/25000 [==============================] - 3861s 154ms/step - loss: 0.0163 - accuracy: 0.9956 - val_loss: 0.0292 - val_accuracy: 0.9947\n",
            "Epoch 3/4\n",
            "25000/25000 [==============================] - 3869s 154ms/step - loss: 0.0091 - accuracy: 0.9976 - val_loss: 0.0166 - val_accuracy: 0.9965\n",
            "Epoch 4/4\n",
            "25000/25000 [==============================] - 3888s 155ms/step - loss: 0.0027 - accuracy: 0.9994 - val_loss: 0.0147 - val_accuracy: 0.9972\n"
          ]
        },
        {
          "data": {
            "text/plain": [
              "<keras.callbacks.History at 0x7f3d7d5b2110>"
            ]
          },
          "execution_count": null,
          "metadata": {},
          "output_type": "execute_result"
        }
      ],
      "source": [
        "learner.fit_onecycle(3e-5, 4)"
      ]
    },
    {
      "cell_type": "markdown",
      "metadata": {
        "id": "y1UBG8nP0lvM"
      },
      "source": [
        "Save the learned model to location, to reuse the model without having to learn our dataset again."
      ]
    },
    {
      "cell_type": "code",
      "execution_count": null,
      "metadata": {
        "colab": {
          "background_save": true
        },
        "id": "4LOs7XpvkIzE"
      },
      "outputs": [],
      "source": [
        "predictor = ktrain.get_predictor(learner.model, preproc=t)\n",
        "if ENV_COLAB:\n",
        "  predictor.save('/content/drive/MyDrive/research/model/')\n",
        "else: \n",
        "  predictor.save('model/')"
      ]
    },
    {
      "cell_type": "markdown",
      "metadata": {
        "id": "2d5WbB0J_dos"
      },
      "source": [
        "View observations in learner with top losses in validation dataset. "
      ]
    },
    {
      "cell_type": "code",
      "execution_count": null,
      "metadata": {
        "colab": {
          "background_save": true
        },
        "id": "PnLgIjqsuR4Q",
        "outputId": "8997b230-3027-42b2-93d3-f15eb8ac6e04"
      },
      "outputs": [
        {
          "name": "stdout",
          "output_type": "stream",
          "text": [
            "----------\n",
            "id:29028 | loss:12.09 | true:1 | pred:0)\n",
            "\n"
          ]
        }
      ],
      "source": [
        "learner.view_top_losses(preproc=t, n=1, val_data=None)"
      ]
    },
    {
      "cell_type": "markdown",
      "metadata": {
        "id": "55zP-cvC_51Y"
      },
      "source": [
        "We will cross-check the model with the validation(test) data, we can use the validate method assigned to the learner instance of the model. The results will be displayed in precision, recall and f1 score."
      ]
    },
    {
      "cell_type": "code",
      "execution_count": null,
      "metadata": {
        "colab": {
          "background_save": true
        },
        "id": "CP_ymyxNPC2w",
        "outputId": "5fe0a7e9-d906-4190-863f-c0e1dd61e0c3"
      },
      "outputs": [
        {
          "name": "stdout",
          "output_type": "stream",
          "text": [
            "              precision    recall  f1-score   support\n",
            "\n",
            "           0       1.00      1.00      1.00     27737\n",
            "           1       1.00      1.00      1.00     22263\n",
            "\n",
            "    accuracy                           1.00     50000\n",
            "   macro avg       1.00      1.00      1.00     50000\n",
            "weighted avg       1.00      1.00      1.00     50000\n",
            "\n"
          ]
        },
        {
          "data": {
            "text/plain": [
              "array([[27674,    63],\n",
              "       [   77, 22186]])"
            ]
          },
          "execution_count": null,
          "metadata": {},
          "output_type": "execute_result"
        }
      ],
      "source": [
        "learner.validate(val_data=val,class_names=t.get_classes())"
      ]
    },
    {
      "cell_type": "code",
      "execution_count": null,
      "metadata": {
        "colab": {
          "background_save": true
        },
        "id": "mdWEbf2FJemk",
        "outputId": "d87d7f92-e332-4618-a3da-b3ca31cedd1d"
      },
      "outputs": [
        {
          "data": {
            "image/png": "[encoded data removed]",
            "text/plain": [
              "<Figure size 432x288 with 1 Axes>"
            ]
          },
          "metadata": {},
          "output_type": "display_data"
        }
      ],
      "source": [
        "learner.plot()"
      ]
    },
    {
      "cell_type": "code",
      "execution_count": null,
      "metadata": {
        "colab": {
          "background_save": true
        },
        "id": "bU6Jtoa9J4uc",
        "outputId": "ce13b579-ea72-4efd-fc22-d87b7e9b51dd"
      },
      "outputs": [
        {
          "data": {
            "text/plain": [
              "(50000, (200000, 3), array([[6.0326261e-06, 9.9999392e-01],\n",
              "        [9.9999654e-01, 3.3981382e-06],\n",
              "        [9.9999535e-01, 4.6324981e-06],\n",
              "        [9.9999630e-01, 3.6541069e-06],\n",
              "        [1.6295456e-04, 9.9983704e-01]], dtype=float32))"
            ]
          },
          "execution_count": null,
          "metadata": {},
          "output_type": "execute_result"
        }
      ],
      "source": [
        "valid_preds = learner.predict()\n",
        "len(valid_preds), dataset.shape, valid_preds[:5]"
      ]
    },
    {
      "cell_type": "markdown",
      "metadata": {
        "id": "oyYlEUfgAS7o"
      },
      "source": [
        "### Model prediction on validation data"
      ]
    },
    {
      "cell_type": "markdown",
      "metadata": {
        "id": "7N2UT4wuLmnQ"
      },
      "source": [
        "Load the saved predictor model to predict on the validation data."
      ]
    },
    {
      "cell_type": "code",
      "execution_count": 2,
      "metadata": {
        "colab": {
          "base_uri": "https://localhost:8080/",
          "height": 256
        },
        "id": "nAZLM6BWUKhE",
        "outputId": "aeebf8d6-0edb-4036-82d6-eb7bb5b89b73"
      },
      "outputs": [
        {
          "ename": "NameError",
          "evalue": "ignored",
          "output_type": "error",
          "traceback": [
            "\u001b[0;31m---------------------------------------------------------------------------\u001b[0m",
            "\u001b[0;31mNameError\u001b[0m                                 Traceback (most recent call last)",
            "\u001b[0;32m<ipython-input-2-1e3a962a8fb7>\u001b[0m in \u001b[0;36m<module>\u001b[0;34m()\u001b[0m\n\u001b[0;32m----> 1\u001b[0;31m \u001b[0;32mif\u001b[0m \u001b[0mENV_COLAB\u001b[0m\u001b[0;34m:\u001b[0m\u001b[0;34m\u001b[0m\u001b[0;34m\u001b[0m\u001b[0m\n\u001b[0m\u001b[1;32m      2\u001b[0m   \u001b[0mpredictor\u001b[0m \u001b[0;34m=\u001b[0m \u001b[0mktrain\u001b[0m\u001b[0;34m.\u001b[0m\u001b[0mload_predictor\u001b[0m\u001b[0;34m(\u001b[0m\u001b[0;34m'/content/drive/MyDrive/research/model/'\u001b[0m\u001b[0;34m)\u001b[0m\u001b[0;34m\u001b[0m\u001b[0;34m\u001b[0m\u001b[0m\n\u001b[1;32m      3\u001b[0m \u001b[0;32melse\u001b[0m\u001b[0;34m:\u001b[0m\u001b[0;34m\u001b[0m\u001b[0;34m\u001b[0m\u001b[0m\n\u001b[1;32m      4\u001b[0m   \u001b[0mpredictor\u001b[0m \u001b[0;34m=\u001b[0m \u001b[0mktrain\u001b[0m\u001b[0;34m.\u001b[0m\u001b[0mload_predictor\u001b[0m\u001b[0;34m(\u001b[0m\u001b[0;34m'model/'\u001b[0m\u001b[0;34m)\u001b[0m\u001b[0;34m\u001b[0m\u001b[0;34m\u001b[0m\u001b[0m\n\u001b[1;32m      5\u001b[0m \u001b[0mmodel\u001b[0m \u001b[0;34m=\u001b[0m \u001b[0mktrain\u001b[0m\u001b[0;34m.\u001b[0m\u001b[0mget_predictor\u001b[0m\u001b[0;34m(\u001b[0m\u001b[0mpredictor\u001b[0m\u001b[0;34m.\u001b[0m\u001b[0mmodel\u001b[0m\u001b[0;34m,\u001b[0m \u001b[0mpredictor\u001b[0m\u001b[0;34m.\u001b[0m\u001b[0mpreproc\u001b[0m\u001b[0;34m)\u001b[0m\u001b[0;34m\u001b[0m\u001b[0;34m\u001b[0m\u001b[0m\n",
            "\u001b[0;31mNameError\u001b[0m: name 'ENV_COLAB' is not defined"
          ]
        }
      ],
      "source": [
        "if ENV_COLAB:\n",
        "  predictor = ktrain.load_predictor('/content/drive/MyDrive/research/model/')\n",
        "else:\n",
        "  predictor = ktrain.load_predictor('model/')\n",
        "model = ktrain.get_predictor(predictor.model, predictor.preproc)\n"
      ]
    },
    {
      "cell_type": "markdown",
      "metadata": {
        "id": "HItLzAJtLZVQ"
      },
      "source": [
        "Highlight the text of the validation sample to explain the prediction."
      ]
    },
    {
      "cell_type": "code",
      "execution_count": 1,
      "metadata": {
        "colab": {
          "base_uri": "https://localhost:8080/",
          "height": 236
        },
        "id": "kooMhWziKb9I",
        "outputId": "256d2377-af7a-4aa6-aecc-e6fd67ca80a3"
      },
      "outputs": [
        {
          "ename": "NameError",
          "evalue": "ignored",
          "output_type": "error",
          "traceback": [
            "\u001b[0;31m---------------------------------------------------------------------------\u001b[0m",
            "\u001b[0;31mNameError\u001b[0m                                 Traceback (most recent call last)",
            "\u001b[0;32m<ipython-input-1-55c8518233f4>\u001b[0m in \u001b[0;36m<module>\u001b[0;34m()\u001b[0m\n\u001b[0;32m----> 1\u001b[0;31m \u001b[0mprint\u001b[0m\u001b[0;34m(\u001b[0m\u001b[0mpredictor\u001b[0m\u001b[0;34m.\u001b[0m\u001b[0mexplain\u001b[0m\u001b[0;34m(\u001b[0m\u001b[0;34m'radboud.nl'\u001b[0m\u001b[0;34m)\u001b[0m\u001b[0;34m)\u001b[0m\u001b[0;34m\u001b[0m\u001b[0;34m\u001b[0m\u001b[0m\n\u001b[0m\u001b[1;32m      2\u001b[0m \u001b[0mprint\u001b[0m\u001b[0;34m(\u001b[0m\u001b[0mpredictor\u001b[0m\u001b[0;34m.\u001b[0m\u001b[0mexplain\u001b[0m\u001b[0;34m(\u001b[0m\u001b[0;34m'01-telecharger.com'\u001b[0m\u001b[0;34m)\u001b[0m\u001b[0;34m)\u001b[0m\u001b[0;34m\u001b[0m\u001b[0;34m\u001b[0m\u001b[0m\n\u001b[1;32m      3\u001b[0m \u001b[0mprint\u001b[0m\u001b[0;34m(\u001b[0m\u001b[0mpredictor\u001b[0m\u001b[0;34m.\u001b[0m\u001b[0mexplain\u001b[0m\u001b[0;34m(\u001b[0m\u001b[0;34m'ovenrenthighlightstablerefuse.com'\u001b[0m\u001b[0;34m)\u001b[0m\u001b[0;34m)\u001b[0m\u001b[0;34m\u001b[0m\u001b[0;34m\u001b[0m\u001b[0m\n\u001b[1;32m      4\u001b[0m \u001b[0mprint\u001b[0m\u001b[0;34m(\u001b[0m\u001b[0mpredictor\u001b[0m\u001b[0;34m.\u001b[0m\u001b[0mexplain\u001b[0m\u001b[0;34m(\u001b[0m\u001b[0;34m'myeqiiookymyokqs.org'\u001b[0m\u001b[0;34m)\u001b[0m\u001b[0;34m)\u001b[0m\u001b[0;34m\u001b[0m\u001b[0;34m\u001b[0m\u001b[0m\n",
            "\u001b[0;31mNameError\u001b[0m: name 'predictor' is not defined"
          ]
        }
      ],
      "source": [
        "print(predictor.explain('radboud.nl'))\n",
        "print(predictor.explain('01-telecharger.com'))\n",
        "print(predictor.explain('ovenrenthighlightstablerefuse.com'))\n",
        "print(predictor.explain('myeqiiookymyokqs.org'))"
      ]
    },
    {
      "cell_type": "markdown",
      "metadata": {
        "id": "BAW7lub_MWH4"
      },
      "source": [
        "Predict on benign and dga domains that are not in our validation data or training data to check our classifier resilliance to new data."
      ]
    },
    {
      "cell_type": "code",
      "execution_count": null,
      "metadata": {
        "colab": {
          "background_save": true
        },
        "id": "EIhVvE98gGs8"
      },
      "outputs": [],
      "source": [
        "print(\"Benign domains: \")\n",
        "print(predictor.predict('hooghelandt.nl'))\n",
        "print(predictor.predict('radboud.nl'))\n",
        "print(predictor.predict('cryptojedi.org'))\n",
        "print(predictor.predict('https://ais.usvisa-info.com/'))\n",
        "print(predictor.predict('000directory.com.ar'))\n",
        "print(predictor.predict('01-telecharger.com'))\n",
        "print(predictor.predict('1001tur.ru'))\n",
        "print(predictor.predict('02022222222.com'))\n",
        "print(\"DGA domains: \")\n",
        "print(predictor.predict('ovenrenthighlightstablerefuse.com'))\n",
        "print(predictor.predict('rowrepeatwakeassociatebox.com'))\n",
        "print(predictor.predict('rowrepeatwakeassociatebox.com'))\n",
        "print(predictor.predict('iucyyekyuksiewqo.org'))\n",
        "print(predictor.predict('myeqiiookymyokqs.org'))\n",
        "print(predictor.predict('owwxxonkponu.co'))"
      ]
    }
  ],
  "metadata": {
    "accelerator": "GPU",
    "colab": {
      "background_execution": "on",
      "collapsed_sections": [],
      "machine_shape": "hm",
      "name": "bertClassifierDGA.ipynb",
      "provenance": []
    },
    "kernelspec": {
      "display_name": "Python 3",
      "name": "python3"
    },
    "language_info": {
      "name": "python"
    }
  },
  "nbformat": 4,
  "nbformat_minor": 0
}
