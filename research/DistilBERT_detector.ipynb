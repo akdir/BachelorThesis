{
  "cells": [
    {
      "cell_type": "markdown",
      "metadata": {
        "id": "52Bws9V6jrYQ"
      },
      "source": [
        "\n",
        "## DistilBERT Detector to detect DGA domains.\n",
        "### Author: Abdulkarim Abdulkadir, s4840933\n"
      ]
    },
    {
      "cell_type": "markdown",
      "metadata": {
        "id": "JkxClUL8wK8w"
      },
      "source": [
        "### Load the libraries\n",
        "We will load the libraries, and check if we are in the Google Colab environment to pip install ktrain and import the drive mount library. This is to make sure that if the notebook is run locally, it will not execute Google Colab environment commands."
      ]
    },
    {
      "cell_type": "code",
      "execution_count": 18,
      "metadata": {
        "colab": {
          "base_uri": "https://localhost:8080/"
        },
        "id": "cNBy_V83jiP4",
        "outputId": "68d28838-793c-4975-c086-904ef10791a1"
      },
      "outputs": [],
      "source": [
        "import pandas as pd\n",
        "import numpy as np\n",
        "import os\n",
        "import sys\n",
        "from sklearn.utils import shuffle\n",
        "from sklearn.model_selection import train_test_split\n",
        "\n",
        "ENV_COLAB = 'google.colab' in sys.modules\n",
        "\n",
        "if ENV_COLAB:\n",
        "    ## install modules\n",
        "    !pip install -q ktrain\n",
        "    from google.colab import drive\n",
        "    drive.mount('/content/drive', force_remount=True) \n",
        "\n",
        "    ## print\n",
        "    print('Environment: Google Colaboratory Pro+.')\n",
        "# import ktrain"
      ]
    },
    {
      "cell_type": "markdown",
      "metadata": {
        "id": "IGzUtWZExRPM"
      },
      "source": [
        "Again we check which environment we are to correctly find the location of the data of our domains"
      ]
    },
    {
      "cell_type": "code",
      "execution_count": 19,
      "metadata": {
        "id": "Rzgq_nPOj05o"
      },
      "outputs": [],
      "source": [
        "if ENV_COLAB:\n",
        "  dgaLocation = '/content/drive/MyDrive/research/DGA_domains/'\n",
        "  benignDomains = '/content/drive/MyDrive/research/benign_domains/top-1m.csv'\n",
        "else:\n",
        "  dgaLocation = 'data/DGA_domains/'\n",
        "  benignDomains = 'data/benign_domains/top-1m.csv'"
      ]
    },
    {
      "cell_type": "markdown",
      "metadata": {
        "id": "ybBgLg0P1fpc"
      },
      "source": [
        "We have a total amount of 19 different DGA types. Including the benign domain data, this will total 20 different types."
      ]
    },
    {
      "cell_type": "code",
      "execution_count": 20,
      "metadata": {
        "colab": {
          "base_uri": "https://localhost:8080/"
        },
        "id": "QQlYBq1t1evo",
        "outputId": "a8bedc69-a29d-4b23-c5ee-e635a3e7b4ba"
      },
      "outputs": [
        {
          "name": "stdout",
          "output_type": "stream",
          "text": [
            "Total amount of DGA types:  37\n"
          ]
        }
      ],
      "source": [
        "dgaDomains = [dga for dga in os.listdir(dgaLocation) if dga.endswith(r\".csv\")]\n",
        "print(\"Total amount of DGA types: \", len(dgaDomains))"
      ]
    },
    {
      "cell_type": "markdown",
      "metadata": {
        "id": "X6hCohtqvhTI"
      },
      "source": [
        "## Load the data into arrays\n",
        "We will randomly select 110000 samples from the benign domains and 90000 from the dga domains. The ratio between the benign and dga domains will be 55:45. Thus we trimmed our data to a total of 200000 domains to use for training our BERT classifier"
      ]
    },
    {
      "cell_type": "code",
      "execution_count": 21,
      "metadata": {
        "id": "EHC6LkNHj3-g"
      },
      "outputs": [],
      "source": [
        "dataset = pd.DataFrame()\n",
        "for i, dga in enumerate(dgaDomains):\n",
        "  dgaDataFrame = pd.read_csv(dgaLocation + dga)\n",
        "  dgaDataFrame.insert(1,'type',dga.split(\".\")[0])\n",
        "  dgaDataFrame.insert(2,'class',1)\n",
        "  dataset = dataset.append(dgaDataFrame, ignore_index=True)\n",
        "benignDataFrame = pd.read_csv(benignDomains)\n",
        "benignDataFrame.insert(1, 'type', 'benign')\n",
        "benignDataFrame.insert(2, 'class', 0)\n",
        "dataset = dataset.append(benignDataFrame[:200000], ignore_index=True)\n",
        "dataset = dataset.reset_index(drop=True)"
      ]
    },
    {
      "cell_type": "code",
      "execution_count": 22,
      "metadata": {
        "colab": {
          "base_uri": "https://localhost:8080/"
        },
        "id": "qYrmQa9ij7OU",
        "outputId": "9f246add-a384-4a5c-fbd6-cd06e39f78cf"
      },
      "outputs": [
        {
          "name": "stdout",
          "output_type": "stream",
          "text": [
            "Total amount of DGA domains:  184765\n",
            "Total amount of benign domains:  200000\n",
            "Total amount of domains:  384765\n"
          ]
        }
      ],
      "source": [
        "print(\"Total amount of DGA domains: \", dataset['class'].value_counts()[1])\n",
        "print(\"Total amount of benign domains: \", dataset['class'].value_counts()[0])\n",
        "print(\"Total amount of domains: \", len(dataset))\n",
        "if ENV_COLAB:\n",
        "  dataset.to_csv('/content/drive/MyDrive/research/dataset', index=False)\n",
        "else:\n",
        "  dataset.to_csv('data/dataset', index=False)"
      ]
    },
    {
      "cell_type": "markdown",
      "metadata": {
        "id": "eg_XDZYfvKfw"
      },
      "source": [
        "We will split our data into random train and test subsets. Our test size will be 25%. Our random_state that control the randon number generated has to be given. Popular seeds are 42 or 0. We chose 42 for obvious reasons."
      ]
    },
    {
      "cell_type": "code",
      "execution_count": 32,
      "metadata": {
        "id": "eV_tY3yOj9Rk"
      },
      "outputs": [],
      "source": [
        "if ENV_COLAB:\n",
        "  dataset = pd.read_csv('/content/drive/MyDrive/research/dataset')\n",
        "else:\n",
        "  dataset = pd.read_csv('data/dataset')\n",
        "X = dataset['domain']\n",
        "\n",
        "labels = dataset['class']\n",
        "class_names = labels.unique()\n",
        "x_train, x_test, y_train, y_test = train_test_split(dataset, labels, test_size=0.25, random_state=42)"
      ]
    },
    {
      "cell_type": "markdown",
      "metadata": {
        "id": "LEmbnwOiy4XM"
      },
      "source": [
        "Display the first 10 and last 10 data in our dataset."
      ]
    },
    {
      "cell_type": "code",
      "execution_count": 33,
      "metadata": {
        "colab": {
          "base_uri": "https://localhost:8080/",
          "height": 677
        },
        "id": "Ylh4et45j_co",
        "outputId": "3d1f6640-b143-4afb-b623-52425f91ec77"
      },
      "outputs": [
        {
          "data": {
            "text/html": [
              "<div>\n",
              "<style scoped>\n",
              "    .dataframe tbody tr th:only-of-type {\n",
              "        vertical-align: middle;\n",
              "    }\n",
              "\n",
              "    .dataframe tbody tr th {\n",
              "        vertical-align: top;\n",
              "    }\n",
              "\n",
              "    .dataframe thead th {\n",
              "        text-align: right;\n",
              "    }\n",
              "</style>\n",
              "<table border=\"1\" class=\"dataframe\">\n",
              "  <thead>\n",
              "    <tr style=\"text-align: right;\">\n",
              "      <th></th>\n",
              "      <th>domain</th>\n",
              "      <th>type</th>\n",
              "      <th>class</th>\n",
              "    </tr>\n",
              "  </thead>\n",
              "  <tbody>\n",
              "    <tr>\n",
              "      <th>0</th>\n",
              "      <td>fliffmdhwrdjb.org</td>\n",
              "      <td>locky</td>\n",
              "      <td>1</td>\n",
              "    </tr>\n",
              "    <tr>\n",
              "      <th>1</th>\n",
              "      <td>oqfyajoxgqnf.pw</td>\n",
              "      <td>locky</td>\n",
              "      <td>1</td>\n",
              "    </tr>\n",
              "    <tr>\n",
              "      <th>2</th>\n",
              "      <td>pnycpjwcw.pl</td>\n",
              "      <td>locky</td>\n",
              "      <td>1</td>\n",
              "    </tr>\n",
              "    <tr>\n",
              "      <th>3</th>\n",
              "      <td>bxicshg.info</td>\n",
              "      <td>locky</td>\n",
              "      <td>1</td>\n",
              "    </tr>\n",
              "    <tr>\n",
              "      <th>4</th>\n",
              "      <td>bamiitcnugeuemxgt.work</td>\n",
              "      <td>locky</td>\n",
              "      <td>1</td>\n",
              "    </tr>\n",
              "    <tr>\n",
              "      <th>5</th>\n",
              "      <td>yuldhyhtaiqgjrpfk.work</td>\n",
              "      <td>locky</td>\n",
              "      <td>1</td>\n",
              "    </tr>\n",
              "    <tr>\n",
              "      <th>6</th>\n",
              "      <td>irjhglaihb.xyz</td>\n",
              "      <td>locky</td>\n",
              "      <td>1</td>\n",
              "    </tr>\n",
              "    <tr>\n",
              "      <th>7</th>\n",
              "      <td>oxmblinqcstkj.xyz</td>\n",
              "      <td>locky</td>\n",
              "      <td>1</td>\n",
              "    </tr>\n",
              "    <tr>\n",
              "      <th>8</th>\n",
              "      <td>phudexoqds.xyz</td>\n",
              "      <td>locky</td>\n",
              "      <td>1</td>\n",
              "    </tr>\n",
              "    <tr>\n",
              "      <th>9</th>\n",
              "      <td>fqsfemovqshfcc.su</td>\n",
              "      <td>locky</td>\n",
              "      <td>1</td>\n",
              "    </tr>\n",
              "    <tr>\n",
              "      <th>384755</th>\n",
              "      <td>asumag.com</td>\n",
              "      <td>benign</td>\n",
              "      <td>0</td>\n",
              "    </tr>\n",
              "    <tr>\n",
              "      <th>384756</th>\n",
              "      <td>montessorinb.com</td>\n",
              "      <td>benign</td>\n",
              "      <td>0</td>\n",
              "    </tr>\n",
              "    <tr>\n",
              "      <th>384757</th>\n",
              "      <td>iremember.ru</td>\n",
              "      <td>benign</td>\n",
              "      <td>0</td>\n",
              "    </tr>\n",
              "    <tr>\n",
              "      <th>384758</th>\n",
              "      <td>hethongxulynuocthai.com.vn</td>\n",
              "      <td>benign</td>\n",
              "      <td>0</td>\n",
              "    </tr>\n",
              "    <tr>\n",
              "      <th>384759</th>\n",
              "      <td>steviewonder.net</td>\n",
              "      <td>benign</td>\n",
              "      <td>0</td>\n",
              "    </tr>\n",
              "    <tr>\n",
              "      <th>384760</th>\n",
              "      <td>kenyan-post.com</td>\n",
              "      <td>benign</td>\n",
              "      <td>0</td>\n",
              "    </tr>\n",
              "    <tr>\n",
              "      <th>384761</th>\n",
              "      <td>adepem.com</td>\n",
              "      <td>benign</td>\n",
              "      <td>0</td>\n",
              "    </tr>\n",
              "    <tr>\n",
              "      <th>384762</th>\n",
              "      <td>gln.com</td>\n",
              "      <td>benign</td>\n",
              "      <td>0</td>\n",
              "    </tr>\n",
              "    <tr>\n",
              "      <th>384763</th>\n",
              "      <td>omahaoutdoors.com</td>\n",
              "      <td>benign</td>\n",
              "      <td>0</td>\n",
              "    </tr>\n",
              "    <tr>\n",
              "      <th>384764</th>\n",
              "      <td>talkhouse.com</td>\n",
              "      <td>benign</td>\n",
              "      <td>0</td>\n",
              "    </tr>\n",
              "  </tbody>\n",
              "</table>\n",
              "</div>"
            ],
            "text/plain": [
              "                            domain    type  class\n",
              "0                fliffmdhwrdjb.org   locky      1\n",
              "1                  oqfyajoxgqnf.pw   locky      1\n",
              "2                     pnycpjwcw.pl   locky      1\n",
              "3                     bxicshg.info   locky      1\n",
              "4           bamiitcnugeuemxgt.work   locky      1\n",
              "5           yuldhyhtaiqgjrpfk.work   locky      1\n",
              "6                   irjhglaihb.xyz   locky      1\n",
              "7                oxmblinqcstkj.xyz   locky      1\n",
              "8                   phudexoqds.xyz   locky      1\n",
              "9                fqsfemovqshfcc.su   locky      1\n",
              "384755                  asumag.com  benign      0\n",
              "384756            montessorinb.com  benign      0\n",
              "384757                iremember.ru  benign      0\n",
              "384758  hethongxulynuocthai.com.vn  benign      0\n",
              "384759            steviewonder.net  benign      0\n",
              "384760             kenyan-post.com  benign      0\n",
              "384761                  adepem.com  benign      0\n",
              "384762                     gln.com  benign      0\n",
              "384763           omahaoutdoors.com  benign      0\n",
              "384764               talkhouse.com  benign      0"
            ]
          },
          "metadata": {},
          "output_type": "display_data"
        }
      ],
      "source": [
        "display(dataset.head(10).append(dataset.tail(10)))"
      ]
    },
    {
      "cell_type": "code",
      "execution_count": 36,
      "metadata": {
        "colab": {
          "base_uri": "https://localhost:8080/"
        },
        "id": "lz8cxZr7thXo",
        "outputId": "b65035ce-5565-42e4-967d-9f3b30756b2d"
      },
      "outputs": [
        {
          "name": "stdout",
          "output_type": "stream",
          "text": [
            "Size of training set: 288573\n",
            "Size of validation set: 96192\n"
          ]
        }
      ],
      "source": [
        "print(\"Size of training set: %s\" % (len(x_train)))\n",
        "print(\"Size of validation set: %s\" % (len(x_test)))"
      ]
    },
    {
      "cell_type": "code",
      "execution_count": 37,
      "metadata": {},
      "outputs": [
        {
          "name": "stdout",
          "output_type": "stream",
          "text": [
            "                        domain     type  class\n",
            "284318      springeronline.com   benign      0\n",
            "271248            indianss.org   benign      0\n",
            "362013                pnsn.org   benign      0\n",
            "274681           mtexpress.com   benign      0\n",
            "106241     odonxl1egulqj4t.com  shiotob      1\n",
            "356934  chambre-agriculture.fr   benign      0\n",
            "251804                  s.coop   benign      0\n",
            "207205      taishinbank.com.tw   benign      0\n",
            "324992              neu.edu.vn   benign      0\n",
            "46367           lyiemychun.com   fobber      1\n"
          ]
        }
      ],
      "source": [
        "print(x_train.head(10))"
      ]
    },
    {
      "cell_type": "markdown",
      "metadata": {
        "id": "TPvAaXcZzUDE"
      },
      "source": [
        "We list all the text models that ktrain offers. For our research we will use the distilbert model. Which is a faster, smaller and distilled version of BERT. "
      ]
    },
    {
      "cell_type": "code",
      "execution_count": null,
      "metadata": {
        "colab": {
          "base_uri": "https://localhost:8080/"
        },
        "id": "lZBSEeRrzRgk",
        "outputId": "96bd7cc2-ece8-4656-d5c7-5e7c19a05aed"
      },
      "outputs": [
        {
          "name": "stdout",
          "output_type": "stream",
          "text": [
            "fasttext: a fastText-like model [http://arxiv.org/pdf/1607.01759.pdf]\n",
            "logreg: logistic regression using a trainable Embedding layer\n",
            "nbsvm: NBSVM model [http://www.aclweb.org/anthology/P12-2018]\n",
            "bigru: Bidirectional GRU with pretrained fasttext word vectors [https://fasttext.cc/docs/en/crawl-vectors.html]\n",
            "standard_gru: simple 2-layer GRU with randomly initialized embeddings\n",
            "bert: Bidirectional Encoder Representations from Transformers (BERT) from keras_bert [https://arxiv.org/abs/1810.04805]\n",
            "distilbert: distilled, smaller, and faster BERT from Hugging Face transformers [https://arxiv.org/abs/1910.01108]\n"
          ]
        }
      ],
      "source": [
        "ktrain.text.print_text_classifiers()"
      ]
    },
    {
      "cell_type": "code",
      "execution_count": null,
      "metadata": {
        "colab": {
          "base_uri": "https://localhost:8080/",
          "height": 49,
          "referenced_widgets": [
            "51477cf139234aeeb6948edfc03ddbe7",
            "17f00d2b107f41d589c99bd9633023cb",
            "a0cb4fdb427d458ca27a2e1617e29606",
            "ef6311b777e94382b4df683fa94d24bc",
            "6475f4c5880346e2afdd46b5eb0097cb",
            "b228ecda266644889e0491a38cdc55c0",
            "5178db2257b140de91a35356cfdde7af",
            "976ee406bc53483aa1e4ee0d37b5c460",
            "2a17855e07dd404fabbf40fe7b3a179f",
            "5eb2250ac855449eb3288e8a3774ae43",
            "c232832e513b4eeb98ddb0a7bced5655"
          ]
        },
        "id": "I9w8EZBukBq0",
        "outputId": "6a95603f-77cf-4078-c6e7-7c4738d974b7"
      },
      "outputs": [
        {
          "data": {
            "application/vnd.jupyter.widget-view+json": {
              "model_id": "51477cf139234aeeb6948edfc03ddbe7",
              "version_major": 2,
              "version_minor": 0
            },
            "text/plain": [
              "Downloading:   0%|          | 0.00/483 [00:00<?, ?B/s]"
            ]
          },
          "metadata": {},
          "output_type": "display_data"
        }
      ],
      "source": [
        "model_name = 'distilbert-base-uncased'\n",
        "t = ktrain.text.Transformer(model_name, class_names=labels.unique(),\n",
        "                     maxlen=350)"
      ]
    },
    {
      "cell_type": "markdown",
      "metadata": {
        "id": "PlnehhtxzemE"
      },
      "source": [
        "Naming our pre-process train and validation dataset respectively."
      ]
    },
    {
      "cell_type": "code",
      "execution_count": null,
      "metadata": {
        "colab": {
          "base_uri": "https://localhost:8080/",
          "height": 397,
          "referenced_widgets": [
            "5fb861cab93b4113b8115998b5697031",
            "24f81e35dbdf41c884b579188809f5d8",
            "3850cd775ff8490cac6cb760df6bd0a8",
            "9bbce01247a34e2e97fe4b4378953f33",
            "c11185c1d76242e0973e9a89d0f4ca0f",
            "dbdd5006eb9a43ce8ce29ffecd503d33",
            "0d435965e53f47e6932a4288bf497961",
            "80567a5ebfd844219abd7538b5fb87a9",
            "303fcbfbde654b4782c2a5a506408038",
            "a4f24c7b82644dd78103c808a3a94d2d",
            "db179399ea6a47d484b1f4af0935a926",
            "1f47050e059d4551afd2738a0e19cedb",
            "830c311ea6fc4230b4f4069fc5650276",
            "061ccd4bd51f42039995acf1af6c33ac",
            "18cbcbe676564fd5a77be9c1ee8775c9",
            "dcebf5a1690548eebe3e3c957c31baa6",
            "6335df01261c410793ca50b454d28a24",
            "209009a394a640578b76f2f2a2566944",
            "6d7e61067ae141bebcd8540fec575303",
            "73655f6a831945b3b9961c0d08e0a812",
            "c3d3d8e202b04c319b0750997b8119a7",
            "a99330937e1342c69a12854d5feea629",
            "1d34242bd31a4632997e83b54f3621af",
            "946da7be48774fbda524f1b719e7ecde",
            "be6fa727276d4aac9731931642f0dd5b",
            "672c3a379e7f448a87ecf26d4a2b89d6",
            "6ea2a46b82404997ae83f2b475c438c2",
            "ceba0f3f74ea41348dee08f02c6798cd",
            "b3d9daf104094211b8071956292da689",
            "7be9060aa23b41fc8952a207d890d841",
            "bd59330490894713a5bb2221b28ed852",
            "8aced93a41754a44a5285988a8103c77",
            "7b75274961a048269bdd554a403232e2",
            "3e13ee5a8109429d96b887d7ca367c8a",
            "13e239c714c54d748514762b7afd59bb",
            "4f6dc2e24fec44ff86a4bb3cdbd74efe",
            "34188efc6d0947daa441c90f5d88b27d",
            "c25c75ffc73b483dbe57372daff3380b",
            "4bf946481dd74498aa0d36ac96cb6a43",
            "bcd1466836b2483da2b17f51b7b7fb43",
            "4fd1f7135c9043328633a91286568751",
            "ee247b152b784f97ad51fd80605b65ec",
            "c2df1c03b07445089ac59b3b43a8be05",
            "081d3bb52eec4e5bb9078040849d9d58"
          ]
        },
        "id": "Yc8b7SotkD_Q",
        "outputId": "9eeea029-6d17-4f7c-bc4e-034d8acdc469"
      },
      "outputs": [
        {
          "name": "stdout",
          "output_type": "stream",
          "text": [
            "preprocessing train...\n",
            "language: en\n",
            "train sequence lengths:\n",
            "\tmean : 1\n",
            "\t95percentile : 1\n",
            "\t99percentile : 1\n"
          ]
        },
        {
          "data": {
            "application/vnd.jupyter.widget-view+json": {
              "model_id": "5fb861cab93b4113b8115998b5697031",
              "version_major": 2,
              "version_minor": 0
            },
            "text/plain": [
              "Downloading:   0%|          | 0.00/232k [00:00<?, ?B/s]"
            ]
          },
          "metadata": {},
          "output_type": "display_data"
        },
        {
          "data": {
            "application/vnd.jupyter.widget-view+json": {
              "model_id": "1f47050e059d4551afd2738a0e19cedb",
              "version_major": 2,
              "version_minor": 0
            },
            "text/plain": [
              "Downloading:   0%|          | 0.00/466k [00:00<?, ?B/s]"
            ]
          },
          "metadata": {},
          "output_type": "display_data"
        },
        {
          "data": {
            "application/vnd.jupyter.widget-view+json": {
              "model_id": "1d34242bd31a4632997e83b54f3621af",
              "version_major": 2,
              "version_minor": 0
            },
            "text/plain": [
              "Downloading:   0%|          | 0.00/28.0 [00:00<?, ?B/s]"
            ]
          },
          "metadata": {},
          "output_type": "display_data"
        },
        {
          "data": {
            "text/html": [],
            "text/plain": [
              "<IPython.core.display.HTML object>"
            ]
          },
          "metadata": {},
          "output_type": "display_data"
        },
        {
          "name": "stdout",
          "output_type": "stream",
          "text": [
            "Is Multi-Label? False\n",
            "preprocessing test...\n",
            "language: en\n",
            "test sequence lengths:\n",
            "\tmean : 1\n",
            "\t95percentile : 1\n",
            "\t99percentile : 1\n"
          ]
        },
        {
          "data": {
            "text/html": [],
            "text/plain": [
              "<IPython.core.display.HTML object>"
            ]
          },
          "metadata": {},
          "output_type": "display_data"
        },
        {
          "data": {
            "application/vnd.jupyter.widget-view+json": {
              "model_id": "3e13ee5a8109429d96b887d7ca367c8a",
              "version_major": 2,
              "version_minor": 0
            },
            "text/plain": [
              "Downloading:   0%|          | 0.00/363M [00:00<?, ?B/s]"
            ]
          },
          "metadata": {},
          "output_type": "display_data"
        }
      ],
      "source": [
        "train = t.preprocess_train(x_train.tolist(), y_train.to_list())\n",
        "\n",
        "val = t.preprocess_test(x_test.tolist(), y_test.to_list())\n",
        "model = t.get_classifier()"
      ]
    },
    {
      "cell_type": "markdown",
      "metadata": {
        "id": "wfzdqabkzos8"
      },
      "source": [
        "We will find a good learning rate using the learning rate range test to provide valuable information about an optimal learnign rate. To point has to be chosen at which the loss starts descending and the point at which the loss stops descending or becomes ragged. For BERT and DistilBERT models the typical learning rate is between 5e-5 and 2e-5."
      ]
    },
    {
      "cell_type": "code",
      "execution_count": null,
      "metadata": {
        "id": "R9WgXQNgH55Q"
      },
      "outputs": [],
      "source": [
        "learner = ktrain.get_learner(model,\n",
        "                       train_data=train,\n",
        "                       val_data=val,\n",
        "                       batch_size=6)"
      ]
    },
    {
      "cell_type": "code",
      "execution_count": null,
      "metadata": {
        "colab": {
          "background_save": true,
          "base_uri": "https://localhost:8080/"
        },
        "id": "C9x_0-kjkGuQ",
        "outputId": "c724481c-3f53-4e37-bda3-9e56e788019c"
      },
      "outputs": [
        {
          "name": "stdout",
          "output_type": "stream",
          "text": [
            "simulating training for different learning rates... this may take a few moments...\n",
            "Epoch 1/4\n",
            "25000/25000 [==============================] - 3781s 150ms/step - loss: 0.1452 - accuracy: 0.9468\n",
            "Epoch 2/4\n",
            "25000/25000 [==============================] - 2056s 81ms/step - loss: 0.0797 - accuracy: 0.9664\n",
            "\n",
            "\n",
            "done.\n",
            "Please invoke the Learner.lr_plot() method to visually inspect the loss plot to help identify the maximal learning rate associated with falling loss.\n"
          ]
        },
        {
          "data": {
            "image/png": "[encoded data removed]",
            "text/plain": [
              "<Figure size 432x288 with 1 Axes>"
            ]
          },
          "metadata": {},
          "output_type": "display_data"
        }
      ],
      "source": [
        "learner.lr_find(max_epochs=4)\n",
        "learner.lr_plot()"
      ]
    },
    {
      "cell_type": "markdown",
      "metadata": {
        "id": "Dr8PnUbF0aJA"
      },
      "source": [
        "Based on the plot above we choose 3e-5 as our learning rate. We will fit a model follwing the 1cycle policy."
      ]
    },
    {
      "cell_type": "code",
      "execution_count": null,
      "metadata": {
        "colab": {
          "background_save": true
        },
        "id": "3ayVCWtD0euI",
        "outputId": "e5cbf4a1-9d38-4f36-91ff-aed3cb536d94"
      },
      "outputs": [
        {
          "name": "stdout",
          "output_type": "stream",
          "text": [
            "\n",
            "\n",
            "begin training using onecycle policy with max lr of 3e-05...\n",
            "Epoch 1/4\n",
            "25000/25000 [==============================] - 3861s 153ms/step - loss: 0.0389 - accuracy: 0.9874 - val_loss: 0.0181 - val_accuracy: 0.9944\n",
            "Epoch 2/4\n",
            "25000/25000 [==============================] - 3861s 154ms/step - loss: 0.0163 - accuracy: 0.9956 - val_loss: 0.0292 - val_accuracy: 0.9947\n",
            "Epoch 3/4\n",
            "25000/25000 [==============================] - 3869s 154ms/step - loss: 0.0091 - accuracy: 0.9976 - val_loss: 0.0166 - val_accuracy: 0.9965\n",
            "Epoch 4/4\n",
            "25000/25000 [==============================] - 3888s 155ms/step - loss: 0.0027 - accuracy: 0.9994 - val_loss: 0.0147 - val_accuracy: 0.9972\n"
          ]
        },
        {
          "data": {
            "text/plain": [
              "<keras.callbacks.History at 0x7f3d7d5b2110>"
            ]
          },
          "execution_count": null,
          "metadata": {},
          "output_type": "execute_result"
        }
      ],
      "source": [
        "learner.fit_onecycle(3e-5, 4)"
      ]
    },
    {
      "cell_type": "markdown",
      "metadata": {
        "id": "y1UBG8nP0lvM"
      },
      "source": [
        "Save the learned model to location, to reuse the model without having to learn our dataset again."
      ]
    },
    {
      "cell_type": "code",
      "execution_count": null,
      "metadata": {
        "colab": {
          "background_save": true
        },
        "id": "4LOs7XpvkIzE"
      },
      "outputs": [],
      "source": [
        "predictor = ktrain.get_predictor(learner.model, preproc=t)\n",
        "if ENV_COLAB:\n",
        "  predictor.save('/content/drive/MyDrive/research/model/')\n",
        "else: \n",
        "  predictor.save('model/')"
      ]
    },
    {
      "cell_type": "markdown",
      "metadata": {
        "id": "2d5WbB0J_dos"
      },
      "source": [
        "View observations in learner with top losses in validation dataset. "
      ]
    },
    {
      "cell_type": "code",
      "execution_count": null,
      "metadata": {
        "colab": {
          "background_save": true
        },
        "id": "PnLgIjqsuR4Q",
        "outputId": "8997b230-3027-42b2-93d3-f15eb8ac6e04"
      },
      "outputs": [
        {
          "name": "stdout",
          "output_type": "stream",
          "text": [
            "----------\n",
            "id:29028 | loss:12.09 | true:1 | pred:0)\n",
            "\n"
          ]
        }
      ],
      "source": [
        "learner.view_top_losses(preproc=t, n=1, val_data=None)"
      ]
    },
    {
      "cell_type": "markdown",
      "metadata": {
        "id": "55zP-cvC_51Y"
      },
      "source": [
        "We will cross-check the model with the validation(test) data, we can use the validate method assigned to the learner instance of the model. The results will be displayed in precision, recall and f1 score."
      ]
    },
    {
      "cell_type": "code",
      "execution_count": null,
      "metadata": {
        "colab": {
          "background_save": true
        },
        "id": "CP_ymyxNPC2w",
        "outputId": "5fe0a7e9-d906-4190-863f-c0e1dd61e0c3"
      },
      "outputs": [
        {
          "name": "stdout",
          "output_type": "stream",
          "text": [
            "              precision    recall  f1-score   support\n",
            "\n",
            "           0       1.00      1.00      1.00     27737\n",
            "           1       1.00      1.00      1.00     22263\n",
            "\n",
            "    accuracy                           1.00     50000\n",
            "   macro avg       1.00      1.00      1.00     50000\n",
            "weighted avg       1.00      1.00      1.00     50000\n",
            "\n"
          ]
        },
        {
          "data": {
            "text/plain": [
              "array([[27674,    63],\n",
              "       [   77, 22186]])"
            ]
          },
          "execution_count": null,
          "metadata": {},
          "output_type": "execute_result"
        }
      ],
      "source": [
        "learner.validate(val_data=val,class_names=t.get_classes())"
      ]
    },
    {
      "cell_type": "code",
      "execution_count": null,
      "metadata": {
        "colab": {
          "background_save": true
        },
        "id": "mdWEbf2FJemk",
        "outputId": "d87d7f92-e332-4618-a3da-b3ca31cedd1d"
      },
      "outputs": [
        {
          "data": {
            "image/png": "[encoded data removed]",
            "text/plain": [
              "<Figure size 432x288 with 1 Axes>"
            ]
          },
          "metadata": {},
          "output_type": "display_data"
        }
      ],
      "source": [
        "learner.plot()"
      ]
    },
    {
      "cell_type": "code",
      "execution_count": null,
      "metadata": {
        "colab": {
          "background_save": true
        },
        "id": "bU6Jtoa9J4uc",
        "outputId": "ce13b579-ea72-4efd-fc22-d87b7e9b51dd"
      },
      "outputs": [
        {
          "data": {
            "text/plain": [
              "(50000, (200000, 3), array([[6.0326261e-06, 9.9999392e-01],\n",
              "        [9.9999654e-01, 3.3981382e-06],\n",
              "        [9.9999535e-01, 4.6324981e-06],\n",
              "        [9.9999630e-01, 3.6541069e-06],\n",
              "        [1.6295456e-04, 9.9983704e-01]], dtype=float32))"
            ]
          },
          "execution_count": null,
          "metadata": {},
          "output_type": "execute_result"
        }
      ],
      "source": [
        "valid_preds = learner.predict()\n",
        "len(valid_preds), dataset.shape, valid_preds[:5]"
      ]
    },
    {
      "cell_type": "markdown",
      "metadata": {
        "id": "oyYlEUfgAS7o"
      },
      "source": [
        "### Model prediction on validation data"
      ]
    },
    {
      "cell_type": "markdown",
      "metadata": {
        "id": "7N2UT4wuLmnQ"
      },
      "source": [
        "Load the saved predictor model to predict on the validation data."
      ]
    },
    {
      "cell_type": "code",
      "execution_count": null,
      "metadata": {
        "id": "nAZLM6BWUKhE"
      },
      "outputs": [],
      "source": [
        "if ENV_COLAB:\n",
        "  predictor = ktrain.load_predictor('/content/drive/MyDrive/research/model/')\n",
        "else:\n",
        "  predictor = ktrain.load_predictor('model/')\n",
        "learner = ktrain.get_learner(predictor.model, train_data = train, val_data = val, batch_size = 12)\n"
      ]
    },
    {
      "cell_type": "code",
      "execution_count": null,
      "metadata": {
        "colab": {
          "base_uri": "https://localhost:8080/"
        },
        "id": "YkJOqUrKvboI",
        "outputId": "a4ab2a9b-ce1a-4e8f-db68-648c8943eb9f"
      },
      "outputs": [
        {
          "data": {
            "text/plain": [
              "[0, 1]"
            ]
          },
          "execution_count": 10,
          "metadata": {},
          "output_type": "execute_result"
        }
      ],
      "source": [
        "predictor.get_classes()"
      ]
    },
    {
      "cell_type": "code",
      "execution_count": null,
      "metadata": {
        "colab": {
          "base_uri": "https://localhost:8080/"
        },
        "id": "2IoyoFMDfWno",
        "outputId": "62d658ab-5d6a-4419-d3ee-3face03ab470"
      },
      "outputs": [
        {
          "name": "stdout",
          "output_type": "stream",
          "text": [
            "<class 'ktrain.text.preprocessor.TransformerDataset'>\n",
            "0                        hooghelandt.nl\n",
            "1                            radboud.nl\n",
            "2                        cryptojedi.org\n",
            "3          https://ais.usvisa-info.com/\n",
            "4                   000directory.com.ar\n",
            "5                    01-telecharger.com\n",
            "6                            1001tur.ru\n",
            "7                       02022222222.com\n",
            "8     ovenrenthighlightstablerefuse.com\n",
            "9         rowrepeatwakeassociatebox.com\n",
            "10                 iucyyekyuksiewqo.org\n",
            "11                      owwxxonkponu.co\n",
            "12                 myeqiiookymyokqs.org\n",
            "dtype: object\n",
            "0     1\n",
            "1     1\n",
            "2     1\n",
            "3     1\n",
            "4     1\n",
            "5     1\n",
            "6     1\n",
            "7     1\n",
            "8     0\n",
            "9     0\n",
            "10    0\n",
            "11    0\n",
            "12    0\n",
            "dtype: int64\n"
          ]
        }
      ],
      "source": [
        "print(type(val))\n",
        "# val = t.preprocess_test(x_test.tolist(), y_test.to_list())\n",
        "x_fake = pd.Series(['hooghelandt.nl', 'radboud.nl', 'cryptojedi.org', 'https://ais.usvisa-info.com/', '000directory.com.ar', '01-telecharger.com', '1001tur.ru', '02022222222.com', 'ovenrenthighlightstablerefuse.com', 'rowrepeatwakeassociatebox.com', 'iucyyekyuksiewqo.org', 'owwxxonkponu.co', 'myeqiiookymyokqs.org'])\n",
        "y_fake = pd.Series([1,1,1,1,1,1,1,1,0,0,0,0,0])\n",
        "x_test = x_test.append(x_fake)\n",
        "y_test = y_test.append(y_fake)\n",
        "\n",
        "print(x_test.tail(13))\n",
        "print(y_test.tail(13))\n"
      ]
    },
    {
      "cell_type": "code",
      "execution_count": null,
      "metadata": {
        "colab": {
          "base_uri": "https://localhost:8080/",
          "height": 346
        },
        "id": "Zj7APPpzkc8A",
        "outputId": "d5280ead-5de4-4174-ad1b-9aae9a012130"
      },
      "outputs": [
        {
          "name": "stdout",
          "output_type": "stream",
          "text": [
            "preprocessing test...\n",
            "language: en\n",
            "test sequence lengths:\n",
            "\tmean : 1\n",
            "\t95percentile : 1\n",
            "\t99percentile : 1\n"
          ]
        },
        {
          "data": {
            "text/html": [],
            "text/plain": [
              "<IPython.core.display.HTML object>"
            ]
          },
          "metadata": {},
          "output_type": "display_data"
        },
        {
          "name": "stdout",
          "output_type": "stream",
          "text": [
            "              precision    recall  f1-score   support\n",
            "\n",
            "           0       0.00      0.00      0.00       5.0\n",
            "           1       0.00      0.00      0.00       8.0\n",
            "\n",
            "    accuracy                           0.00      13.0\n",
            "   macro avg       0.00      0.00      0.00      13.0\n",
            "weighted avg       0.00      0.00      0.00      13.0\n",
            "\n"
          ]
        },
        {
          "data": {
            "text/plain": [
              "array([[0, 5],\n",
              "       [8, 0]])"
            ]
          },
          "execution_count": 46,
          "metadata": {},
          "output_type": "execute_result"
        }
      ],
      "source": [
        "val = t.preprocess_test(x_fake.tolist(), y_fake.to_list())\n",
        "learner.validate(val_data=val,class_names=t.get_classes())"
      ]
    },
    {
      "cell_type": "markdown",
      "metadata": {
        "id": "HItLzAJtLZVQ"
      },
      "source": [
        "Highlight the text of the validation sample to explain the prediction."
      ]
    },
    {
      "cell_type": "code",
      "execution_count": null,
      "metadata": {
        "id": "8upcJLxjcjV8"
      },
      "outputs": [],
      "source": [
        "from sklearn.metrics import accuracy_score\n",
        "pred=predictor.predict(x_test.to_list())\n",
        "acc=accuracy_score(y_test.to_list(),pred)"
      ]
    },
    {
      "cell_type": "code",
      "execution_count": null,
      "metadata": {
        "colab": {
          "base_uri": "https://localhost:8080/"
        },
        "id": "bG7bH1EXePRw",
        "outputId": "0b2385a5-622a-4f22-dafc-1c923c93cab1"
      },
      "outputs": [
        {
          "name": "stdout",
          "output_type": "stream",
          "text": [
            "0.9964227902236256\n"
          ]
        }
      ],
      "source": [
        "print(acc)"
      ]
    },
    {
      "cell_type": "markdown",
      "metadata": {
        "id": "BAW7lub_MWH4"
      },
      "source": [
        "Predict on benign and dga domains that are not in our validation data or training data to check our classifier resilliance to new data."
      ]
    },
    {
      "cell_type": "code",
      "execution_count": null,
      "metadata": {
        "colab": {
          "base_uri": "https://localhost:8080/"
        },
        "id": "EIhVvE98gGs8",
        "outputId": "8e37005b-a397-4bd1-bdcf-18ce857b5c48"
      },
      "outputs": [
        {
          "name": "stdout",
          "output_type": "stream",
          "text": [
            "Benign domains: \n",
            "0\n",
            "0\n",
            "0\n",
            "0\n",
            "0\n",
            "0\n",
            "0\n",
            "0\n",
            "DGA domains: \n",
            "1\n",
            "1\n",
            "1\n",
            "1\n",
            "1\n",
            "1\n"
          ]
        }
      ],
      "source": [
        "print(\"Benign domains: \")\n",
        "print(predictor.predict('hooghelandt.nl'))\n",
        "print(predictor.predict('radboud.nl'))\n",
        "print(predictor.predict('cryptojedi.org'))\n",
        "print(predictor.predict('https://ais.usvisa-info.com/'))\n",
        "print(predictor.predict('000directory.com.ar'))\n",
        "print(predictor.predict('01-telecharger.com'))\n",
        "print(predictor.predict('1001tur.ru'))\n",
        "print(predictor.predict('02022222222.com'))\n",
        "print(\"DGA domains: \")\n",
        "print(predictor.predict('ovenrenthighlightstablerefuse.com'))\n",
        "print(predictor.predict('rowrepeatwakeassociatebox.com'))\n",
        "print(predictor.predict('rowrepeatwakeassociatebox.com'))\n",
        "print(predictor.predict('iucyyekyuksiewqo.org'))\n",
        "print(predictor.predict('myeqiiookymyokqs.org'))\n",
        "print(predictor.predict('owwxxonkponu.co'))"
      ]
    },
    {
      "cell_type": "code",
      "execution_count": null,
      "metadata": {
        "colab": {
          "base_uri": "https://localhost:8080/"
        },
        "id": "anuf9rz3za4E",
        "outputId": "c7a79092-05d2-4efb-b9e0-ee85de87bd09"
      },
      "outputs": [
        {
          "name": "stdout",
          "output_type": "stream",
          "text": [
            "                               domain  class\n",
            "0                          google.com      0\n",
            "1                        facebook.com      0\n",
            "2                         youtube.com      0\n",
            "3                           baidu.com      0\n",
            "4                           yahoo.com      0\n",
            "...                               ...    ...\n",
            "1499995    byaaemigrationforthese.com      1\n",
            "1499996  wethesenecessarypursuing.com      1\n",
            "1499997   tyrantofonoverarmstrial.com      1\n",
            "1499998    absolutestagepartsthey.com      1\n",
            "1499999      themrepeatedsuchatof.com      1\n",
            "\n",
            "[1000000 rows x 2 columns]\n",
            "domain\n",
            "class\n"
          ]
        }
      ],
      "source": [
        "if ENV_COLAB:\n",
        "  validation_data_location = '/content/drive/MyDrive/research/validation_data.csv'\n",
        "else:\n",
        "  validation_data_location = 'validation_data.csv'\n",
        "validation_dataset = pd.read_csv(validation_data_location)\n",
        "validation_dataset = validation_dataset.drop(labels='number',axis=1)\n",
        "validation_dataset = validation_dataset.drop(labels=range(500000,1000000),axis=0)\n",
        "validation_dataset = validation_dataset.drop(labels=range(1500000,1800000),axis=0)\n",
        "validation_dataset.reset_index()\n",
        "validation_dataset = validation_dataset.replace(to_replace='legit', value=0)\n",
        "validation_dataset = validation_dataset.replace(to_replace='conficker', value=1)\n",
        "validation_dataset = validation_dataset.replace(to_replace='cryptolocker', value=1)\n",
        "validation_dataset = validation_dataset.replace(to_replace='zeus', value=1)\n",
        "validation_dataset = validation_dataset.replace(to_replace='pushdo', value=1)\n",
        "validation_dataset = validation_dataset.replace(to_replace='rovnix', value=1)\n",
        "validation_dataset = validation_dataset.replace(to_replace='tinba', value=1)\n",
        "validation_dataset = validation_dataset.replace(to_replace='matsnu', value=1)\n",
        "validation_dataset = validation_dataset.replace(to_replace='ramdo', value=1)\n",
        "\n",
        "\n",
        "print(validation_dataset)\n",
        "for data in validation_dataset:\n",
        "  print(data)\n"
      ]
    },
    {
      "cell_type": "code",
      "execution_count": null,
      "metadata": {
        "id": "D5xey0XdP6Yg"
      },
      "outputs": [],
      "source": [
        "false = 0\n",
        "true = 0\n",
        "for idx, row in validation_dataset.iterrows():\n",
        "  if predictor.predict(row['domain']) == row['class']:\n",
        "    true = true + 1\n",
        "  else:\n",
        "    false = false + 1\n"
      ]
    }
  ],
  "metadata": {
    "accelerator": "TPU",
    "colab": {
      "background_execution": "on",
      "collapsed_sections": [],
      "machine_shape": "hm",
      "name": "DistilBERT_detector.ipynb",
      "provenance": []
    },
    "kernelspec": {
      "display_name": "Python 3",
      "name": "python3"
    },
    "language_info": {
      "codemirror_mode": {
        "name": "ipython",
        "version": 3
      },
      "file_extension": ".py",
      "mimetype": "text/x-python",
      "name": "python",
      "nbconvert_exporter": "python",
      "pygments_lexer": "ipython3",
      "version": "3.10.1"
    },
    "widgets": {
      "application/vnd.jupyter.widget-state+json": {
        "061ccd4bd51f42039995acf1af6c33ac": {
          "model_module": "@jupyter-widgets/controls",
          "model_module_version": "1.5.0",
          "model_name": "FloatProgressModel",
          "state": {
            "_dom_classes": [],
            "_model_module": "@jupyter-widgets/controls",
            "_model_module_version": "1.5.0",
            "_model_name": "FloatProgressModel",
            "_view_count": null,
            "_view_module": "@jupyter-widgets/controls",
            "_view_module_version": "1.5.0",
            "_view_name": "ProgressView",
            "bar_style": "success",
            "description": "",
            "description_tooltip": null,
            "layout": "IPY_MODEL_6d7e61067ae141bebcd8540fec575303",
            "max": 466062,
            "min": 0,
            "orientation": "horizontal",
            "style": "IPY_MODEL_73655f6a831945b3b9961c0d08e0a812",
            "value": 466062
          }
        },
        "081d3bb52eec4e5bb9078040849d9d58": {
          "model_module": "@jupyter-widgets/controls",
          "model_module_version": "1.5.0",
          "model_name": "DescriptionStyleModel",
          "state": {
            "_model_module": "@jupyter-widgets/controls",
            "_model_module_version": "1.5.0",
            "_model_name": "DescriptionStyleModel",
            "_view_count": null,
            "_view_module": "@jupyter-widgets/base",
            "_view_module_version": "1.2.0",
            "_view_name": "StyleView",
            "description_width": ""
          }
        },
        "0d435965e53f47e6932a4288bf497961": {
          "model_module": "@jupyter-widgets/controls",
          "model_module_version": "1.5.0",
          "model_name": "DescriptionStyleModel",
          "state": {
            "_model_module": "@jupyter-widgets/controls",
            "_model_module_version": "1.5.0",
            "_model_name": "DescriptionStyleModel",
            "_view_count": null,
            "_view_module": "@jupyter-widgets/base",
            "_view_module_version": "1.2.0",
            "_view_name": "StyleView",
            "description_width": ""
          }
        },
        "13e239c714c54d748514762b7afd59bb": {
          "model_module": "@jupyter-widgets/controls",
          "model_module_version": "1.5.0",
          "model_name": "HTMLModel",
          "state": {
            "_dom_classes": [],
            "_model_module": "@jupyter-widgets/controls",
            "_model_module_version": "1.5.0",
            "_model_name": "HTMLModel",
            "_view_count": null,
            "_view_module": "@jupyter-widgets/controls",
            "_view_module_version": "1.5.0",
            "_view_name": "HTMLView",
            "description": "",
            "description_tooltip": null,
            "layout": "IPY_MODEL_4bf946481dd74498aa0d36ac96cb6a43",
            "placeholder": "​",
            "style": "IPY_MODEL_bcd1466836b2483da2b17f51b7b7fb43",
            "value": "Downloading: 100%"
          }
        },
        "17f00d2b107f41d589c99bd9633023cb": {
          "model_module": "@jupyter-widgets/controls",
          "model_module_version": "1.5.0",
          "model_name": "HTMLModel",
          "state": {
            "_dom_classes": [],
            "_model_module": "@jupyter-widgets/controls",
            "_model_module_version": "1.5.0",
            "_model_name": "HTMLModel",
            "_view_count": null,
            "_view_module": "@jupyter-widgets/controls",
            "_view_module_version": "1.5.0",
            "_view_name": "HTMLView",
            "description": "",
            "description_tooltip": null,
            "layout": "IPY_MODEL_b228ecda266644889e0491a38cdc55c0",
            "placeholder": "​",
            "style": "IPY_MODEL_5178db2257b140de91a35356cfdde7af",
            "value": "Downloading: 100%"
          }
        },
        "18cbcbe676564fd5a77be9c1ee8775c9": {
          "model_module": "@jupyter-widgets/controls",
          "model_module_version": "1.5.0",
          "model_name": "HTMLModel",
          "state": {
            "_dom_classes": [],
            "_model_module": "@jupyter-widgets/controls",
            "_model_module_version": "1.5.0",
            "_model_name": "HTMLModel",
            "_view_count": null,
            "_view_module": "@jupyter-widgets/controls",
            "_view_module_version": "1.5.0",
            "_view_name": "HTMLView",
            "description": "",
            "description_tooltip": null,
            "layout": "IPY_MODEL_c3d3d8e202b04c319b0750997b8119a7",
            "placeholder": "​",
            "style": "IPY_MODEL_a99330937e1342c69a12854d5feea629",
            "value": " 466k/466k [00:00&lt;00:00, 913kB/s]"
          }
        },
        "1d34242bd31a4632997e83b54f3621af": {
          "model_module": "@jupyter-widgets/controls",
          "model_module_version": "1.5.0",
          "model_name": "HBoxModel",
          "state": {
            "_dom_classes": [],
            "_model_module": "@jupyter-widgets/controls",
            "_model_module_version": "1.5.0",
            "_model_name": "HBoxModel",
            "_view_count": null,
            "_view_module": "@jupyter-widgets/controls",
            "_view_module_version": "1.5.0",
            "_view_name": "HBoxView",
            "box_style": "",
            "children": [
              "IPY_MODEL_946da7be48774fbda524f1b719e7ecde",
              "IPY_MODEL_be6fa727276d4aac9731931642f0dd5b",
              "IPY_MODEL_672c3a379e7f448a87ecf26d4a2b89d6"
            ],
            "layout": "IPY_MODEL_6ea2a46b82404997ae83f2b475c438c2"
          }
        },
        "1f47050e059d4551afd2738a0e19cedb": {
          "model_module": "@jupyter-widgets/controls",
          "model_module_version": "1.5.0",
          "model_name": "HBoxModel",
          "state": {
            "_dom_classes": [],
            "_model_module": "@jupyter-widgets/controls",
            "_model_module_version": "1.5.0",
            "_model_name": "HBoxModel",
            "_view_count": null,
            "_view_module": "@jupyter-widgets/controls",
            "_view_module_version": "1.5.0",
            "_view_name": "HBoxView",
            "box_style": "",
            "children": [
              "IPY_MODEL_830c311ea6fc4230b4f4069fc5650276",
              "IPY_MODEL_061ccd4bd51f42039995acf1af6c33ac",
              "IPY_MODEL_18cbcbe676564fd5a77be9c1ee8775c9"
            ],
            "layout": "IPY_MODEL_dcebf5a1690548eebe3e3c957c31baa6"
          }
        },
        "209009a394a640578b76f2f2a2566944": {
          "model_module": "@jupyter-widgets/controls",
          "model_module_version": "1.5.0",
          "model_name": "DescriptionStyleModel",
          "state": {
            "_model_module": "@jupyter-widgets/controls",
            "_model_module_version": "1.5.0",
            "_model_name": "DescriptionStyleModel",
            "_view_count": null,
            "_view_module": "@jupyter-widgets/base",
            "_view_module_version": "1.2.0",
            "_view_name": "StyleView",
            "description_width": ""
          }
        },
        "24f81e35dbdf41c884b579188809f5d8": {
          "model_module": "@jupyter-widgets/controls",
          "model_module_version": "1.5.0",
          "model_name": "HTMLModel",
          "state": {
            "_dom_classes": [],
            "_model_module": "@jupyter-widgets/controls",
            "_model_module_version": "1.5.0",
            "_model_name": "HTMLModel",
            "_view_count": null,
            "_view_module": "@jupyter-widgets/controls",
            "_view_module_version": "1.5.0",
            "_view_name": "HTMLView",
            "description": "",
            "description_tooltip": null,
            "layout": "IPY_MODEL_dbdd5006eb9a43ce8ce29ffecd503d33",
            "placeholder": "​",
            "style": "IPY_MODEL_0d435965e53f47e6932a4288bf497961",
            "value": "Downloading: 100%"
          }
        },
        "2a17855e07dd404fabbf40fe7b3a179f": {
          "model_module": "@jupyter-widgets/controls",
          "model_module_version": "1.5.0",
          "model_name": "ProgressStyleModel",
          "state": {
            "_model_module": "@jupyter-widgets/controls",
            "_model_module_version": "1.5.0",
            "_model_name": "ProgressStyleModel",
            "_view_count": null,
            "_view_module": "@jupyter-widgets/base",
            "_view_module_version": "1.2.0",
            "_view_name": "StyleView",
            "bar_color": null,
            "description_width": ""
          }
        },
        "303fcbfbde654b4782c2a5a506408038": {
          "model_module": "@jupyter-widgets/controls",
          "model_module_version": "1.5.0",
          "model_name": "ProgressStyleModel",
          "state": {
            "_model_module": "@jupyter-widgets/controls",
            "_model_module_version": "1.5.0",
            "_model_name": "ProgressStyleModel",
            "_view_count": null,
            "_view_module": "@jupyter-widgets/base",
            "_view_module_version": "1.2.0",
            "_view_name": "StyleView",
            "bar_color": null,
            "description_width": ""
          }
        },
        "34188efc6d0947daa441c90f5d88b27d": {
          "model_module": "@jupyter-widgets/controls",
          "model_module_version": "1.5.0",
          "model_name": "HTMLModel",
          "state": {
            "_dom_classes": [],
            "_model_module": "@jupyter-widgets/controls",
            "_model_module_version": "1.5.0",
            "_model_name": "HTMLModel",
            "_view_count": null,
            "_view_module": "@jupyter-widgets/controls",
            "_view_module_version": "1.5.0",
            "_view_name": "HTMLView",
            "description": "",
            "description_tooltip": null,
            "layout": "IPY_MODEL_c2df1c03b07445089ac59b3b43a8be05",
            "placeholder": "​",
            "style": "IPY_MODEL_081d3bb52eec4e5bb9078040849d9d58",
            "value": " 363M/363M [00:06&lt;00:00, 55.2MB/s]"
          }
        },
        "3850cd775ff8490cac6cb760df6bd0a8": {
          "model_module": "@jupyter-widgets/controls",
          "model_module_version": "1.5.0",
          "model_name": "FloatProgressModel",
          "state": {
            "_dom_classes": [],
            "_model_module": "@jupyter-widgets/controls",
            "_model_module_version": "1.5.0",
            "_model_name": "FloatProgressModel",
            "_view_count": null,
            "_view_module": "@jupyter-widgets/controls",
            "_view_module_version": "1.5.0",
            "_view_name": "ProgressView",
            "bar_style": "success",
            "description": "",
            "description_tooltip": null,
            "layout": "IPY_MODEL_80567a5ebfd844219abd7538b5fb87a9",
            "max": 231508,
            "min": 0,
            "orientation": "horizontal",
            "style": "IPY_MODEL_303fcbfbde654b4782c2a5a506408038",
            "value": 231508
          }
        },
        "3e13ee5a8109429d96b887d7ca367c8a": {
          "model_module": "@jupyter-widgets/controls",
          "model_module_version": "1.5.0",
          "model_name": "HBoxModel",
          "state": {
            "_dom_classes": [],
            "_model_module": "@jupyter-widgets/controls",
            "_model_module_version": "1.5.0",
            "_model_name": "HBoxModel",
            "_view_count": null,
            "_view_module": "@jupyter-widgets/controls",
            "_view_module_version": "1.5.0",
            "_view_name": "HBoxView",
            "box_style": "",
            "children": [
              "IPY_MODEL_13e239c714c54d748514762b7afd59bb",
              "IPY_MODEL_4f6dc2e24fec44ff86a4bb3cdbd74efe",
              "IPY_MODEL_34188efc6d0947daa441c90f5d88b27d"
            ],
            "layout": "IPY_MODEL_c25c75ffc73b483dbe57372daff3380b"
          }
        },
        "4bf946481dd74498aa0d36ac96cb6a43": {
          "model_module": "@jupyter-widgets/base",
          "model_module_version": "1.2.0",
          "model_name": "LayoutModel",
          "state": {
            "_model_module": "@jupyter-widgets/base",
            "_model_module_version": "1.2.0",
            "_model_name": "LayoutModel",
            "_view_count": null,
            "_view_module": "@jupyter-widgets/base",
            "_view_module_version": "1.2.0",
            "_view_name": "LayoutView",
            "align_content": null,
            "align_items": null,
            "align_self": null,
            "border": null,
            "bottom": null,
            "display": null,
            "flex": null,
            "flex_flow": null,
            "grid_area": null,
            "grid_auto_columns": null,
            "grid_auto_flow": null,
            "grid_auto_rows": null,
            "grid_column": null,
            "grid_gap": null,
            "grid_row": null,
            "grid_template_areas": null,
            "grid_template_columns": null,
            "grid_template_rows": null,
            "height": null,
            "justify_content": null,
            "justify_items": null,
            "left": null,
            "margin": null,
            "max_height": null,
            "max_width": null,
            "min_height": null,
            "min_width": null,
            "object_fit": null,
            "object_position": null,
            "order": null,
            "overflow": null,
            "overflow_x": null,
            "overflow_y": null,
            "padding": null,
            "right": null,
            "top": null,
            "visibility": null,
            "width": null
          }
        },
        "4f6dc2e24fec44ff86a4bb3cdbd74efe": {
          "model_module": "@jupyter-widgets/controls",
          "model_module_version": "1.5.0",
          "model_name": "FloatProgressModel",
          "state": {
            "_dom_classes": [],
            "_model_module": "@jupyter-widgets/controls",
            "_model_module_version": "1.5.0",
            "_model_name": "FloatProgressModel",
            "_view_count": null,
            "_view_module": "@jupyter-widgets/controls",
            "_view_module_version": "1.5.0",
            "_view_name": "ProgressView",
            "bar_style": "success",
            "description": "",
            "description_tooltip": null,
            "layout": "IPY_MODEL_4fd1f7135c9043328633a91286568751",
            "max": 363423424,
            "min": 0,
            "orientation": "horizontal",
            "style": "IPY_MODEL_ee247b152b784f97ad51fd80605b65ec",
            "value": 363423424
          }
        },
        "4fd1f7135c9043328633a91286568751": {
          "model_module": "@jupyter-widgets/base",
          "model_module_version": "1.2.0",
          "model_name": "LayoutModel",
          "state": {
            "_model_module": "@jupyter-widgets/base",
            "_model_module_version": "1.2.0",
            "_model_name": "LayoutModel",
            "_view_count": null,
            "_view_module": "@jupyter-widgets/base",
            "_view_module_version": "1.2.0",
            "_view_name": "LayoutView",
            "align_content": null,
            "align_items": null,
            "align_self": null,
            "border": null,
            "bottom": null,
            "display": null,
            "flex": null,
            "flex_flow": null,
            "grid_area": null,
            "grid_auto_columns": null,
            "grid_auto_flow": null,
            "grid_auto_rows": null,
            "grid_column": null,
            "grid_gap": null,
            "grid_row": null,
            "grid_template_areas": null,
            "grid_template_columns": null,
            "grid_template_rows": null,
            "height": null,
            "justify_content": null,
            "justify_items": null,
            "left": null,
            "margin": null,
            "max_height": null,
            "max_width": null,
            "min_height": null,
            "min_width": null,
            "object_fit": null,
            "object_position": null,
            "order": null,
            "overflow": null,
            "overflow_x": null,
            "overflow_y": null,
            "padding": null,
            "right": null,
            "top": null,
            "visibility": null,
            "width": null
          }
        },
        "51477cf139234aeeb6948edfc03ddbe7": {
          "model_module": "@jupyter-widgets/controls",
          "model_module_version": "1.5.0",
          "model_name": "HBoxModel",
          "state": {
            "_dom_classes": [],
            "_model_module": "@jupyter-widgets/controls",
            "_model_module_version": "1.5.0",
            "_model_name": "HBoxModel",
            "_view_count": null,
            "_view_module": "@jupyter-widgets/controls",
            "_view_module_version": "1.5.0",
            "_view_name": "HBoxView",
            "box_style": "",
            "children": [
              "IPY_MODEL_17f00d2b107f41d589c99bd9633023cb",
              "IPY_MODEL_a0cb4fdb427d458ca27a2e1617e29606",
              "IPY_MODEL_ef6311b777e94382b4df683fa94d24bc"
            ],
            "layout": "IPY_MODEL_6475f4c5880346e2afdd46b5eb0097cb"
          }
        },
        "5178db2257b140de91a35356cfdde7af": {
          "model_module": "@jupyter-widgets/controls",
          "model_module_version": "1.5.0",
          "model_name": "DescriptionStyleModel",
          "state": {
            "_model_module": "@jupyter-widgets/controls",
            "_model_module_version": "1.5.0",
            "_model_name": "DescriptionStyleModel",
            "_view_count": null,
            "_view_module": "@jupyter-widgets/base",
            "_view_module_version": "1.2.0",
            "_view_name": "StyleView",
            "description_width": ""
          }
        },
        "5eb2250ac855449eb3288e8a3774ae43": {
          "model_module": "@jupyter-widgets/base",
          "model_module_version": "1.2.0",
          "model_name": "LayoutModel",
          "state": {
            "_model_module": "@jupyter-widgets/base",
            "_model_module_version": "1.2.0",
            "_model_name": "LayoutModel",
            "_view_count": null,
            "_view_module": "@jupyter-widgets/base",
            "_view_module_version": "1.2.0",
            "_view_name": "LayoutView",
            "align_content": null,
            "align_items": null,
            "align_self": null,
            "border": null,
            "bottom": null,
            "display": null,
            "flex": null,
            "flex_flow": null,
            "grid_area": null,
            "grid_auto_columns": null,
            "grid_auto_flow": null,
            "grid_auto_rows": null,
            "grid_column": null,
            "grid_gap": null,
            "grid_row": null,
            "grid_template_areas": null,
            "grid_template_columns": null,
            "grid_template_rows": null,
            "height": null,
            "justify_content": null,
            "justify_items": null,
            "left": null,
            "margin": null,
            "max_height": null,
            "max_width": null,
            "min_height": null,
            "min_width": null,
            "object_fit": null,
            "object_position": null,
            "order": null,
            "overflow": null,
            "overflow_x": null,
            "overflow_y": null,
            "padding": null,
            "right": null,
            "top": null,
            "visibility": null,
            "width": null
          }
        },
        "5fb861cab93b4113b8115998b5697031": {
          "model_module": "@jupyter-widgets/controls",
          "model_module_version": "1.5.0",
          "model_name": "HBoxModel",
          "state": {
            "_dom_classes": [],
            "_model_module": "@jupyter-widgets/controls",
            "_model_module_version": "1.5.0",
            "_model_name": "HBoxModel",
            "_view_count": null,
            "_view_module": "@jupyter-widgets/controls",
            "_view_module_version": "1.5.0",
            "_view_name": "HBoxView",
            "box_style": "",
            "children": [
              "IPY_MODEL_24f81e35dbdf41c884b579188809f5d8",
              "IPY_MODEL_3850cd775ff8490cac6cb760df6bd0a8",
              "IPY_MODEL_9bbce01247a34e2e97fe4b4378953f33"
            ],
            "layout": "IPY_MODEL_c11185c1d76242e0973e9a89d0f4ca0f"
          }
        },
        "6335df01261c410793ca50b454d28a24": {
          "model_module": "@jupyter-widgets/base",
          "model_module_version": "1.2.0",
          "model_name": "LayoutModel",
          "state": {
            "_model_module": "@jupyter-widgets/base",
            "_model_module_version": "1.2.0",
            "_model_name": "LayoutModel",
            "_view_count": null,
            "_view_module": "@jupyter-widgets/base",
            "_view_module_version": "1.2.0",
            "_view_name": "LayoutView",
            "align_content": null,
            "align_items": null,
            "align_self": null,
            "border": null,
            "bottom": null,
            "display": null,
            "flex": null,
            "flex_flow": null,
            "grid_area": null,
            "grid_auto_columns": null,
            "grid_auto_flow": null,
            "grid_auto_rows": null,
            "grid_column": null,
            "grid_gap": null,
            "grid_row": null,
            "grid_template_areas": null,
            "grid_template_columns": null,
            "grid_template_rows": null,
            "height": null,
            "justify_content": null,
            "justify_items": null,
            "left": null,
            "margin": null,
            "max_height": null,
            "max_width": null,
            "min_height": null,
            "min_width": null,
            "object_fit": null,
            "object_position": null,
            "order": null,
            "overflow": null,
            "overflow_x": null,
            "overflow_y": null,
            "padding": null,
            "right": null,
            "top": null,
            "visibility": null,
            "width": null
          }
        },
        "6475f4c5880346e2afdd46b5eb0097cb": {
          "model_module": "@jupyter-widgets/base",
          "model_module_version": "1.2.0",
          "model_name": "LayoutModel",
          "state": {
            "_model_module": "@jupyter-widgets/base",
            "_model_module_version": "1.2.0",
            "_model_name": "LayoutModel",
            "_view_count": null,
            "_view_module": "@jupyter-widgets/base",
            "_view_module_version": "1.2.0",
            "_view_name": "LayoutView",
            "align_content": null,
            "align_items": null,
            "align_self": null,
            "border": null,
            "bottom": null,
            "display": null,
            "flex": null,
            "flex_flow": null,
            "grid_area": null,
            "grid_auto_columns": null,
            "grid_auto_flow": null,
            "grid_auto_rows": null,
            "grid_column": null,
            "grid_gap": null,
            "grid_row": null,
            "grid_template_areas": null,
            "grid_template_columns": null,
            "grid_template_rows": null,
            "height": null,
            "justify_content": null,
            "justify_items": null,
            "left": null,
            "margin": null,
            "max_height": null,
            "max_width": null,
            "min_height": null,
            "min_width": null,
            "object_fit": null,
            "object_position": null,
            "order": null,
            "overflow": null,
            "overflow_x": null,
            "overflow_y": null,
            "padding": null,
            "right": null,
            "top": null,
            "visibility": null,
            "width": null
          }
        },
        "672c3a379e7f448a87ecf26d4a2b89d6": {
          "model_module": "@jupyter-widgets/controls",
          "model_module_version": "1.5.0",
          "model_name": "HTMLModel",
          "state": {
            "_dom_classes": [],
            "_model_module": "@jupyter-widgets/controls",
            "_model_module_version": "1.5.0",
            "_model_name": "HTMLModel",
            "_view_count": null,
            "_view_module": "@jupyter-widgets/controls",
            "_view_module_version": "1.5.0",
            "_view_name": "HTMLView",
            "description": "",
            "description_tooltip": null,
            "layout": "IPY_MODEL_8aced93a41754a44a5285988a8103c77",
            "placeholder": "​",
            "style": "IPY_MODEL_7b75274961a048269bdd554a403232e2",
            "value": " 28.0/28.0 [00:00&lt;00:00, 1.02kB/s]"
          }
        },
        "6d7e61067ae141bebcd8540fec575303": {
          "model_module": "@jupyter-widgets/base",
          "model_module_version": "1.2.0",
          "model_name": "LayoutModel",
          "state": {
            "_model_module": "@jupyter-widgets/base",
            "_model_module_version": "1.2.0",
            "_model_name": "LayoutModel",
            "_view_count": null,
            "_view_module": "@jupyter-widgets/base",
            "_view_module_version": "1.2.0",
            "_view_name": "LayoutView",
            "align_content": null,
            "align_items": null,
            "align_self": null,
            "border": null,
            "bottom": null,
            "display": null,
            "flex": null,
            "flex_flow": null,
            "grid_area": null,
            "grid_auto_columns": null,
            "grid_auto_flow": null,
            "grid_auto_rows": null,
            "grid_column": null,
            "grid_gap": null,
            "grid_row": null,
            "grid_template_areas": null,
            "grid_template_columns": null,
            "grid_template_rows": null,
            "height": null,
            "justify_content": null,
            "justify_items": null,
            "left": null,
            "margin": null,
            "max_height": null,
            "max_width": null,
            "min_height": null,
            "min_width": null,
            "object_fit": null,
            "object_position": null,
            "order": null,
            "overflow": null,
            "overflow_x": null,
            "overflow_y": null,
            "padding": null,
            "right": null,
            "top": null,
            "visibility": null,
            "width": null
          }
        },
        "6ea2a46b82404997ae83f2b475c438c2": {
          "model_module": "@jupyter-widgets/base",
          "model_module_version": "1.2.0",
          "model_name": "LayoutModel",
          "state": {
            "_model_module": "@jupyter-widgets/base",
            "_model_module_version": "1.2.0",
            "_model_name": "LayoutModel",
            "_view_count": null,
            "_view_module": "@jupyter-widgets/base",
            "_view_module_version": "1.2.0",
            "_view_name": "LayoutView",
            "align_content": null,
            "align_items": null,
            "align_self": null,
            "border": null,
            "bottom": null,
            "display": null,
            "flex": null,
            "flex_flow": null,
            "grid_area": null,
            "grid_auto_columns": null,
            "grid_auto_flow": null,
            "grid_auto_rows": null,
            "grid_column": null,
            "grid_gap": null,
            "grid_row": null,
            "grid_template_areas": null,
            "grid_template_columns": null,
            "grid_template_rows": null,
            "height": null,
            "justify_content": null,
            "justify_items": null,
            "left": null,
            "margin": null,
            "max_height": null,
            "max_width": null,
            "min_height": null,
            "min_width": null,
            "object_fit": null,
            "object_position": null,
            "order": null,
            "overflow": null,
            "overflow_x": null,
            "overflow_y": null,
            "padding": null,
            "right": null,
            "top": null,
            "visibility": null,
            "width": null
          }
        },
        "73655f6a831945b3b9961c0d08e0a812": {
          "model_module": "@jupyter-widgets/controls",
          "model_module_version": "1.5.0",
          "model_name": "ProgressStyleModel",
          "state": {
            "_model_module": "@jupyter-widgets/controls",
            "_model_module_version": "1.5.0",
            "_model_name": "ProgressStyleModel",
            "_view_count": null,
            "_view_module": "@jupyter-widgets/base",
            "_view_module_version": "1.2.0",
            "_view_name": "StyleView",
            "bar_color": null,
            "description_width": ""
          }
        },
        "7b75274961a048269bdd554a403232e2": {
          "model_module": "@jupyter-widgets/controls",
          "model_module_version": "1.5.0",
          "model_name": "DescriptionStyleModel",
          "state": {
            "_model_module": "@jupyter-widgets/controls",
            "_model_module_version": "1.5.0",
            "_model_name": "DescriptionStyleModel",
            "_view_count": null,
            "_view_module": "@jupyter-widgets/base",
            "_view_module_version": "1.2.0",
            "_view_name": "StyleView",
            "description_width": ""
          }
        },
        "7be9060aa23b41fc8952a207d890d841": {
          "model_module": "@jupyter-widgets/base",
          "model_module_version": "1.2.0",
          "model_name": "LayoutModel",
          "state": {
            "_model_module": "@jupyter-widgets/base",
            "_model_module_version": "1.2.0",
            "_model_name": "LayoutModel",
            "_view_count": null,
            "_view_module": "@jupyter-widgets/base",
            "_view_module_version": "1.2.0",
            "_view_name": "LayoutView",
            "align_content": null,
            "align_items": null,
            "align_self": null,
            "border": null,
            "bottom": null,
            "display": null,
            "flex": null,
            "flex_flow": null,
            "grid_area": null,
            "grid_auto_columns": null,
            "grid_auto_flow": null,
            "grid_auto_rows": null,
            "grid_column": null,
            "grid_gap": null,
            "grid_row": null,
            "grid_template_areas": null,
            "grid_template_columns": null,
            "grid_template_rows": null,
            "height": null,
            "justify_content": null,
            "justify_items": null,
            "left": null,
            "margin": null,
            "max_height": null,
            "max_width": null,
            "min_height": null,
            "min_width": null,
            "object_fit": null,
            "object_position": null,
            "order": null,
            "overflow": null,
            "overflow_x": null,
            "overflow_y": null,
            "padding": null,
            "right": null,
            "top": null,
            "visibility": null,
            "width": null
          }
        },
        "80567a5ebfd844219abd7538b5fb87a9": {
          "model_module": "@jupyter-widgets/base",
          "model_module_version": "1.2.0",
          "model_name": "LayoutModel",
          "state": {
            "_model_module": "@jupyter-widgets/base",
            "_model_module_version": "1.2.0",
            "_model_name": "LayoutModel",
            "_view_count": null,
            "_view_module": "@jupyter-widgets/base",
            "_view_module_version": "1.2.0",
            "_view_name": "LayoutView",
            "align_content": null,
            "align_items": null,
            "align_self": null,
            "border": null,
            "bottom": null,
            "display": null,
            "flex": null,
            "flex_flow": null,
            "grid_area": null,
            "grid_auto_columns": null,
            "grid_auto_flow": null,
            "grid_auto_rows": null,
            "grid_column": null,
            "grid_gap": null,
            "grid_row": null,
            "grid_template_areas": null,
            "grid_template_columns": null,
            "grid_template_rows": null,
            "height": null,
            "justify_content": null,
            "justify_items": null,
            "left": null,
            "margin": null,
            "max_height": null,
            "max_width": null,
            "min_height": null,
            "min_width": null,
            "object_fit": null,
            "object_position": null,
            "order": null,
            "overflow": null,
            "overflow_x": null,
            "overflow_y": null,
            "padding": null,
            "right": null,
            "top": null,
            "visibility": null,
            "width": null
          }
        },
        "830c311ea6fc4230b4f4069fc5650276": {
          "model_module": "@jupyter-widgets/controls",
          "model_module_version": "1.5.0",
          "model_name": "HTMLModel",
          "state": {
            "_dom_classes": [],
            "_model_module": "@jupyter-widgets/controls",
            "_model_module_version": "1.5.0",
            "_model_name": "HTMLModel",
            "_view_count": null,
            "_view_module": "@jupyter-widgets/controls",
            "_view_module_version": "1.5.0",
            "_view_name": "HTMLView",
            "description": "",
            "description_tooltip": null,
            "layout": "IPY_MODEL_6335df01261c410793ca50b454d28a24",
            "placeholder": "​",
            "style": "IPY_MODEL_209009a394a640578b76f2f2a2566944",
            "value": "Downloading: 100%"
          }
        },
        "8aced93a41754a44a5285988a8103c77": {
          "model_module": "@jupyter-widgets/base",
          "model_module_version": "1.2.0",
          "model_name": "LayoutModel",
          "state": {
            "_model_module": "@jupyter-widgets/base",
            "_model_module_version": "1.2.0",
            "_model_name": "LayoutModel",
            "_view_count": null,
            "_view_module": "@jupyter-widgets/base",
            "_view_module_version": "1.2.0",
            "_view_name": "LayoutView",
            "align_content": null,
            "align_items": null,
            "align_self": null,
            "border": null,
            "bottom": null,
            "display": null,
            "flex": null,
            "flex_flow": null,
            "grid_area": null,
            "grid_auto_columns": null,
            "grid_auto_flow": null,
            "grid_auto_rows": null,
            "grid_column": null,
            "grid_gap": null,
            "grid_row": null,
            "grid_template_areas": null,
            "grid_template_columns": null,
            "grid_template_rows": null,
            "height": null,
            "justify_content": null,
            "justify_items": null,
            "left": null,
            "margin": null,
            "max_height": null,
            "max_width": null,
            "min_height": null,
            "min_width": null,
            "object_fit": null,
            "object_position": null,
            "order": null,
            "overflow": null,
            "overflow_x": null,
            "overflow_y": null,
            "padding": null,
            "right": null,
            "top": null,
            "visibility": null,
            "width": null
          }
        },
        "946da7be48774fbda524f1b719e7ecde": {
          "model_module": "@jupyter-widgets/controls",
          "model_module_version": "1.5.0",
          "model_name": "HTMLModel",
          "state": {
            "_dom_classes": [],
            "_model_module": "@jupyter-widgets/controls",
            "_model_module_version": "1.5.0",
            "_model_name": "HTMLModel",
            "_view_count": null,
            "_view_module": "@jupyter-widgets/controls",
            "_view_module_version": "1.5.0",
            "_view_name": "HTMLView",
            "description": "",
            "description_tooltip": null,
            "layout": "IPY_MODEL_ceba0f3f74ea41348dee08f02c6798cd",
            "placeholder": "​",
            "style": "IPY_MODEL_b3d9daf104094211b8071956292da689",
            "value": "Downloading: 100%"
          }
        },
        "976ee406bc53483aa1e4ee0d37b5c460": {
          "model_module": "@jupyter-widgets/base",
          "model_module_version": "1.2.0",
          "model_name": "LayoutModel",
          "state": {
            "_model_module": "@jupyter-widgets/base",
            "_model_module_version": "1.2.0",
            "_model_name": "LayoutModel",
            "_view_count": null,
            "_view_module": "@jupyter-widgets/base",
            "_view_module_version": "1.2.0",
            "_view_name": "LayoutView",
            "align_content": null,
            "align_items": null,
            "align_self": null,
            "border": null,
            "bottom": null,
            "display": null,
            "flex": null,
            "flex_flow": null,
            "grid_area": null,
            "grid_auto_columns": null,
            "grid_auto_flow": null,
            "grid_auto_rows": null,
            "grid_column": null,
            "grid_gap": null,
            "grid_row": null,
            "grid_template_areas": null,
            "grid_template_columns": null,
            "grid_template_rows": null,
            "height": null,
            "justify_content": null,
            "justify_items": null,
            "left": null,
            "margin": null,
            "max_height": null,
            "max_width": null,
            "min_height": null,
            "min_width": null,
            "object_fit": null,
            "object_position": null,
            "order": null,
            "overflow": null,
            "overflow_x": null,
            "overflow_y": null,
            "padding": null,
            "right": null,
            "top": null,
            "visibility": null,
            "width": null
          }
        },
        "9bbce01247a34e2e97fe4b4378953f33": {
          "model_module": "@jupyter-widgets/controls",
          "model_module_version": "1.5.0",
          "model_name": "HTMLModel",
          "state": {
            "_dom_classes": [],
            "_model_module": "@jupyter-widgets/controls",
            "_model_module_version": "1.5.0",
            "_model_name": "HTMLModel",
            "_view_count": null,
            "_view_module": "@jupyter-widgets/controls",
            "_view_module_version": "1.5.0",
            "_view_name": "HTMLView",
            "description": "",
            "description_tooltip": null,
            "layout": "IPY_MODEL_a4f24c7b82644dd78103c808a3a94d2d",
            "placeholder": "​",
            "style": "IPY_MODEL_db179399ea6a47d484b1f4af0935a926",
            "value": " 232k/232k [00:00&lt;00:00, 973kB/s]"
          }
        },
        "a0cb4fdb427d458ca27a2e1617e29606": {
          "model_module": "@jupyter-widgets/controls",
          "model_module_version": "1.5.0",
          "model_name": "FloatProgressModel",
          "state": {
            "_dom_classes": [],
            "_model_module": "@jupyter-widgets/controls",
            "_model_module_version": "1.5.0",
            "_model_name": "FloatProgressModel",
            "_view_count": null,
            "_view_module": "@jupyter-widgets/controls",
            "_view_module_version": "1.5.0",
            "_view_name": "ProgressView",
            "bar_style": "success",
            "description": "",
            "description_tooltip": null,
            "layout": "IPY_MODEL_976ee406bc53483aa1e4ee0d37b5c460",
            "max": 483,
            "min": 0,
            "orientation": "horizontal",
            "style": "IPY_MODEL_2a17855e07dd404fabbf40fe7b3a179f",
            "value": 483
          }
        },
        "a4f24c7b82644dd78103c808a3a94d2d": {
          "model_module": "@jupyter-widgets/base",
          "model_module_version": "1.2.0",
          "model_name": "LayoutModel",
          "state": {
            "_model_module": "@jupyter-widgets/base",
            "_model_module_version": "1.2.0",
            "_model_name": "LayoutModel",
            "_view_count": null,
            "_view_module": "@jupyter-widgets/base",
            "_view_module_version": "1.2.0",
            "_view_name": "LayoutView",
            "align_content": null,
            "align_items": null,
            "align_self": null,
            "border": null,
            "bottom": null,
            "display": null,
            "flex": null,
            "flex_flow": null,
            "grid_area": null,
            "grid_auto_columns": null,
            "grid_auto_flow": null,
            "grid_auto_rows": null,
            "grid_column": null,
            "grid_gap": null,
            "grid_row": null,
            "grid_template_areas": null,
            "grid_template_columns": null,
            "grid_template_rows": null,
            "height": null,
            "justify_content": null,
            "justify_items": null,
            "left": null,
            "margin": null,
            "max_height": null,
            "max_width": null,
            "min_height": null,
            "min_width": null,
            "object_fit": null,
            "object_position": null,
            "order": null,
            "overflow": null,
            "overflow_x": null,
            "overflow_y": null,
            "padding": null,
            "right": null,
            "top": null,
            "visibility": null,
            "width": null
          }
        },
        "a99330937e1342c69a12854d5feea629": {
          "model_module": "@jupyter-widgets/controls",
          "model_module_version": "1.5.0",
          "model_name": "DescriptionStyleModel",
          "state": {
            "_model_module": "@jupyter-widgets/controls",
            "_model_module_version": "1.5.0",
            "_model_name": "DescriptionStyleModel",
            "_view_count": null,
            "_view_module": "@jupyter-widgets/base",
            "_view_module_version": "1.2.0",
            "_view_name": "StyleView",
            "description_width": ""
          }
        },
        "b228ecda266644889e0491a38cdc55c0": {
          "model_module": "@jupyter-widgets/base",
          "model_module_version": "1.2.0",
          "model_name": "LayoutModel",
          "state": {
            "_model_module": "@jupyter-widgets/base",
            "_model_module_version": "1.2.0",
            "_model_name": "LayoutModel",
            "_view_count": null,
            "_view_module": "@jupyter-widgets/base",
            "_view_module_version": "1.2.0",
            "_view_name": "LayoutView",
            "align_content": null,
            "align_items": null,
            "align_self": null,
            "border": null,
            "bottom": null,
            "display": null,
            "flex": null,
            "flex_flow": null,
            "grid_area": null,
            "grid_auto_columns": null,
            "grid_auto_flow": null,
            "grid_auto_rows": null,
            "grid_column": null,
            "grid_gap": null,
            "grid_row": null,
            "grid_template_areas": null,
            "grid_template_columns": null,
            "grid_template_rows": null,
            "height": null,
            "justify_content": null,
            "justify_items": null,
            "left": null,
            "margin": null,
            "max_height": null,
            "max_width": null,
            "min_height": null,
            "min_width": null,
            "object_fit": null,
            "object_position": null,
            "order": null,
            "overflow": null,
            "overflow_x": null,
            "overflow_y": null,
            "padding": null,
            "right": null,
            "top": null,
            "visibility": null,
            "width": null
          }
        },
        "b3d9daf104094211b8071956292da689": {
          "model_module": "@jupyter-widgets/controls",
          "model_module_version": "1.5.0",
          "model_name": "DescriptionStyleModel",
          "state": {
            "_model_module": "@jupyter-widgets/controls",
            "_model_module_version": "1.5.0",
            "_model_name": "DescriptionStyleModel",
            "_view_count": null,
            "_view_module": "@jupyter-widgets/base",
            "_view_module_version": "1.2.0",
            "_view_name": "StyleView",
            "description_width": ""
          }
        },
        "bcd1466836b2483da2b17f51b7b7fb43": {
          "model_module": "@jupyter-widgets/controls",
          "model_module_version": "1.5.0",
          "model_name": "DescriptionStyleModel",
          "state": {
            "_model_module": "@jupyter-widgets/controls",
            "_model_module_version": "1.5.0",
            "_model_name": "DescriptionStyleModel",
            "_view_count": null,
            "_view_module": "@jupyter-widgets/base",
            "_view_module_version": "1.2.0",
            "_view_name": "StyleView",
            "description_width": ""
          }
        },
        "bd59330490894713a5bb2221b28ed852": {
          "model_module": "@jupyter-widgets/controls",
          "model_module_version": "1.5.0",
          "model_name": "ProgressStyleModel",
          "state": {
            "_model_module": "@jupyter-widgets/controls",
            "_model_module_version": "1.5.0",
            "_model_name": "ProgressStyleModel",
            "_view_count": null,
            "_view_module": "@jupyter-widgets/base",
            "_view_module_version": "1.2.0",
            "_view_name": "StyleView",
            "bar_color": null,
            "description_width": ""
          }
        },
        "be6fa727276d4aac9731931642f0dd5b": {
          "model_module": "@jupyter-widgets/controls",
          "model_module_version": "1.5.0",
          "model_name": "FloatProgressModel",
          "state": {
            "_dom_classes": [],
            "_model_module": "@jupyter-widgets/controls",
            "_model_module_version": "1.5.0",
            "_model_name": "FloatProgressModel",
            "_view_count": null,
            "_view_module": "@jupyter-widgets/controls",
            "_view_module_version": "1.5.0",
            "_view_name": "ProgressView",
            "bar_style": "success",
            "description": "",
            "description_tooltip": null,
            "layout": "IPY_MODEL_7be9060aa23b41fc8952a207d890d841",
            "max": 28,
            "min": 0,
            "orientation": "horizontal",
            "style": "IPY_MODEL_bd59330490894713a5bb2221b28ed852",
            "value": 28
          }
        },
        "c11185c1d76242e0973e9a89d0f4ca0f": {
          "model_module": "@jupyter-widgets/base",
          "model_module_version": "1.2.0",
          "model_name": "LayoutModel",
          "state": {
            "_model_module": "@jupyter-widgets/base",
            "_model_module_version": "1.2.0",
            "_model_name": "LayoutModel",
            "_view_count": null,
            "_view_module": "@jupyter-widgets/base",
            "_view_module_version": "1.2.0",
            "_view_name": "LayoutView",
            "align_content": null,
            "align_items": null,
            "align_self": null,
            "border": null,
            "bottom": null,
            "display": null,
            "flex": null,
            "flex_flow": null,
            "grid_area": null,
            "grid_auto_columns": null,
            "grid_auto_flow": null,
            "grid_auto_rows": null,
            "grid_column": null,
            "grid_gap": null,
            "grid_row": null,
            "grid_template_areas": null,
            "grid_template_columns": null,
            "grid_template_rows": null,
            "height": null,
            "justify_content": null,
            "justify_items": null,
            "left": null,
            "margin": null,
            "max_height": null,
            "max_width": null,
            "min_height": null,
            "min_width": null,
            "object_fit": null,
            "object_position": null,
            "order": null,
            "overflow": null,
            "overflow_x": null,
            "overflow_y": null,
            "padding": null,
            "right": null,
            "top": null,
            "visibility": null,
            "width": null
          }
        },
        "c232832e513b4eeb98ddb0a7bced5655": {
          "model_module": "@jupyter-widgets/controls",
          "model_module_version": "1.5.0",
          "model_name": "DescriptionStyleModel",
          "state": {
            "_model_module": "@jupyter-widgets/controls",
            "_model_module_version": "1.5.0",
            "_model_name": "DescriptionStyleModel",
            "_view_count": null,
            "_view_module": "@jupyter-widgets/base",
            "_view_module_version": "1.2.0",
            "_view_name": "StyleView",
            "description_width": ""
          }
        },
        "c25c75ffc73b483dbe57372daff3380b": {
          "model_module": "@jupyter-widgets/base",
          "model_module_version": "1.2.0",
          "model_name": "LayoutModel",
          "state": {
            "_model_module": "@jupyter-widgets/base",
            "_model_module_version": "1.2.0",
            "_model_name": "LayoutModel",
            "_view_count": null,
            "_view_module": "@jupyter-widgets/base",
            "_view_module_version": "1.2.0",
            "_view_name": "LayoutView",
            "align_content": null,
            "align_items": null,
            "align_self": null,
            "border": null,
            "bottom": null,
            "display": null,
            "flex": null,
            "flex_flow": null,
            "grid_area": null,
            "grid_auto_columns": null,
            "grid_auto_flow": null,
            "grid_auto_rows": null,
            "grid_column": null,
            "grid_gap": null,
            "grid_row": null,
            "grid_template_areas": null,
            "grid_template_columns": null,
            "grid_template_rows": null,
            "height": null,
            "justify_content": null,
            "justify_items": null,
            "left": null,
            "margin": null,
            "max_height": null,
            "max_width": null,
            "min_height": null,
            "min_width": null,
            "object_fit": null,
            "object_position": null,
            "order": null,
            "overflow": null,
            "overflow_x": null,
            "overflow_y": null,
            "padding": null,
            "right": null,
            "top": null,
            "visibility": null,
            "width": null
          }
        },
        "c2df1c03b07445089ac59b3b43a8be05": {
          "model_module": "@jupyter-widgets/base",
          "model_module_version": "1.2.0",
          "model_name": "LayoutModel",
          "state": {
            "_model_module": "@jupyter-widgets/base",
            "_model_module_version": "1.2.0",
            "_model_name": "LayoutModel",
            "_view_count": null,
            "_view_module": "@jupyter-widgets/base",
            "_view_module_version": "1.2.0",
            "_view_name": "LayoutView",
            "align_content": null,
            "align_items": null,
            "align_self": null,
            "border": null,
            "bottom": null,
            "display": null,
            "flex": null,
            "flex_flow": null,
            "grid_area": null,
            "grid_auto_columns": null,
            "grid_auto_flow": null,
            "grid_auto_rows": null,
            "grid_column": null,
            "grid_gap": null,
            "grid_row": null,
            "grid_template_areas": null,
            "grid_template_columns": null,
            "grid_template_rows": null,
            "height": null,
            "justify_content": null,
            "justify_items": null,
            "left": null,
            "margin": null,
            "max_height": null,
            "max_width": null,
            "min_height": null,
            "min_width": null,
            "object_fit": null,
            "object_position": null,
            "order": null,
            "overflow": null,
            "overflow_x": null,
            "overflow_y": null,
            "padding": null,
            "right": null,
            "top": null,
            "visibility": null,
            "width": null
          }
        },
        "c3d3d8e202b04c319b0750997b8119a7": {
          "model_module": "@jupyter-widgets/base",
          "model_module_version": "1.2.0",
          "model_name": "LayoutModel",
          "state": {
            "_model_module": "@jupyter-widgets/base",
            "_model_module_version": "1.2.0",
            "_model_name": "LayoutModel",
            "_view_count": null,
            "_view_module": "@jupyter-widgets/base",
            "_view_module_version": "1.2.0",
            "_view_name": "LayoutView",
            "align_content": null,
            "align_items": null,
            "align_self": null,
            "border": null,
            "bottom": null,
            "display": null,
            "flex": null,
            "flex_flow": null,
            "grid_area": null,
            "grid_auto_columns": null,
            "grid_auto_flow": null,
            "grid_auto_rows": null,
            "grid_column": null,
            "grid_gap": null,
            "grid_row": null,
            "grid_template_areas": null,
            "grid_template_columns": null,
            "grid_template_rows": null,
            "height": null,
            "justify_content": null,
            "justify_items": null,
            "left": null,
            "margin": null,
            "max_height": null,
            "max_width": null,
            "min_height": null,
            "min_width": null,
            "object_fit": null,
            "object_position": null,
            "order": null,
            "overflow": null,
            "overflow_x": null,
            "overflow_y": null,
            "padding": null,
            "right": null,
            "top": null,
            "visibility": null,
            "width": null
          }
        },
        "ceba0f3f74ea41348dee08f02c6798cd": {
          "model_module": "@jupyter-widgets/base",
          "model_module_version": "1.2.0",
          "model_name": "LayoutModel",
          "state": {
            "_model_module": "@jupyter-widgets/base",
            "_model_module_version": "1.2.0",
            "_model_name": "LayoutModel",
            "_view_count": null,
            "_view_module": "@jupyter-widgets/base",
            "_view_module_version": "1.2.0",
            "_view_name": "LayoutView",
            "align_content": null,
            "align_items": null,
            "align_self": null,
            "border": null,
            "bottom": null,
            "display": null,
            "flex": null,
            "flex_flow": null,
            "grid_area": null,
            "grid_auto_columns": null,
            "grid_auto_flow": null,
            "grid_auto_rows": null,
            "grid_column": null,
            "grid_gap": null,
            "grid_row": null,
            "grid_template_areas": null,
            "grid_template_columns": null,
            "grid_template_rows": null,
            "height": null,
            "justify_content": null,
            "justify_items": null,
            "left": null,
            "margin": null,
            "max_height": null,
            "max_width": null,
            "min_height": null,
            "min_width": null,
            "object_fit": null,
            "object_position": null,
            "order": null,
            "overflow": null,
            "overflow_x": null,
            "overflow_y": null,
            "padding": null,
            "right": null,
            "top": null,
            "visibility": null,
            "width": null
          }
        },
        "db179399ea6a47d484b1f4af0935a926": {
          "model_module": "@jupyter-widgets/controls",
          "model_module_version": "1.5.0",
          "model_name": "DescriptionStyleModel",
          "state": {
            "_model_module": "@jupyter-widgets/controls",
            "_model_module_version": "1.5.0",
            "_model_name": "DescriptionStyleModel",
            "_view_count": null,
            "_view_module": "@jupyter-widgets/base",
            "_view_module_version": "1.2.0",
            "_view_name": "StyleView",
            "description_width": ""
          }
        },
        "dbdd5006eb9a43ce8ce29ffecd503d33": {
          "model_module": "@jupyter-widgets/base",
          "model_module_version": "1.2.0",
          "model_name": "LayoutModel",
          "state": {
            "_model_module": "@jupyter-widgets/base",
            "_model_module_version": "1.2.0",
            "_model_name": "LayoutModel",
            "_view_count": null,
            "_view_module": "@jupyter-widgets/base",
            "_view_module_version": "1.2.0",
            "_view_name": "LayoutView",
            "align_content": null,
            "align_items": null,
            "align_self": null,
            "border": null,
            "bottom": null,
            "display": null,
            "flex": null,
            "flex_flow": null,
            "grid_area": null,
            "grid_auto_columns": null,
            "grid_auto_flow": null,
            "grid_auto_rows": null,
            "grid_column": null,
            "grid_gap": null,
            "grid_row": null,
            "grid_template_areas": null,
            "grid_template_columns": null,
            "grid_template_rows": null,
            "height": null,
            "justify_content": null,
            "justify_items": null,
            "left": null,
            "margin": null,
            "max_height": null,
            "max_width": null,
            "min_height": null,
            "min_width": null,
            "object_fit": null,
            "object_position": null,
            "order": null,
            "overflow": null,
            "overflow_x": null,
            "overflow_y": null,
            "padding": null,
            "right": null,
            "top": null,
            "visibility": null,
            "width": null
          }
        },
        "dcebf5a1690548eebe3e3c957c31baa6": {
          "model_module": "@jupyter-widgets/base",
          "model_module_version": "1.2.0",
          "model_name": "LayoutModel",
          "state": {
            "_model_module": "@jupyter-widgets/base",
            "_model_module_version": "1.2.0",
            "_model_name": "LayoutModel",
            "_view_count": null,
            "_view_module": "@jupyter-widgets/base",
            "_view_module_version": "1.2.0",
            "_view_name": "LayoutView",
            "align_content": null,
            "align_items": null,
            "align_self": null,
            "border": null,
            "bottom": null,
            "display": null,
            "flex": null,
            "flex_flow": null,
            "grid_area": null,
            "grid_auto_columns": null,
            "grid_auto_flow": null,
            "grid_auto_rows": null,
            "grid_column": null,
            "grid_gap": null,
            "grid_row": null,
            "grid_template_areas": null,
            "grid_template_columns": null,
            "grid_template_rows": null,
            "height": null,
            "justify_content": null,
            "justify_items": null,
            "left": null,
            "margin": null,
            "max_height": null,
            "max_width": null,
            "min_height": null,
            "min_width": null,
            "object_fit": null,
            "object_position": null,
            "order": null,
            "overflow": null,
            "overflow_x": null,
            "overflow_y": null,
            "padding": null,
            "right": null,
            "top": null,
            "visibility": null,
            "width": null
          }
        },
        "ee247b152b784f97ad51fd80605b65ec": {
          "model_module": "@jupyter-widgets/controls",
          "model_module_version": "1.5.0",
          "model_name": "ProgressStyleModel",
          "state": {
            "_model_module": "@jupyter-widgets/controls",
            "_model_module_version": "1.5.0",
            "_model_name": "ProgressStyleModel",
            "_view_count": null,
            "_view_module": "@jupyter-widgets/base",
            "_view_module_version": "1.2.0",
            "_view_name": "StyleView",
            "bar_color": null,
            "description_width": ""
          }
        },
        "ef6311b777e94382b4df683fa94d24bc": {
          "model_module": "@jupyter-widgets/controls",
          "model_module_version": "1.5.0",
          "model_name": "HTMLModel",
          "state": {
            "_dom_classes": [],
            "_model_module": "@jupyter-widgets/controls",
            "_model_module_version": "1.5.0",
            "_model_name": "HTMLModel",
            "_view_count": null,
            "_view_module": "@jupyter-widgets/controls",
            "_view_module_version": "1.5.0",
            "_view_name": "HTMLView",
            "description": "",
            "description_tooltip": null,
            "layout": "IPY_MODEL_5eb2250ac855449eb3288e8a3774ae43",
            "placeholder": "​",
            "style": "IPY_MODEL_c232832e513b4eeb98ddb0a7bced5655",
            "value": " 483/483 [00:00&lt;00:00, 18.0kB/s]"
          }
        }
      }
    }
  },
  "nbformat": 4,
  "nbformat_minor": 0
}
